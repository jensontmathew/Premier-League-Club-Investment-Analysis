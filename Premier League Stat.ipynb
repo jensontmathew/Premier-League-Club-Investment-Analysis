{
 "cells": [
  {
   "cell_type": "markdown",
   "id": "f68b5bda",
   "metadata": {},
   "source": [
    "# Premier League Club Investment Analysis for an Investment Company(EDA)\n",
    "\n",
    "**Domain: Sports**\n",
    "\n",
    "**Context:**\n",
    "    \n",
    "A renowned investment firm usually invest in top-tier sports teams that have potential. The dataset in their possession comprises crucial information about all the clubs that have participated in premier league (assume that it has the data for all clubs). It includes data on the number of goals scored, the number of times they have finished in the top two positions and other relevant details.\n",
    "\n",
    "**Data:**\n",
    "Premier League Final Data.csv- : The data set contains information on all the clubs so far participated in all the premier league tournaments.\n",
    "\n",
    "**Data Dictionary:**\n",
    "\n",
    "* Club: Name of the football club\n",
    "* Matches: Number of matches the club has played in the Premier League\n",
    "* Wins: Number of matches won by the club in the Premier League\n",
    "* Loss: Number of matches lost by the club in the Premier League\n",
    "* Draws: Number of matches drawn by the club in the Premier League\n",
    "* Clean Sheets: Number of matches in which the club has prevented the opposing side from scoring\n",
    "* Team Launch: Year in which the club was founded\n",
    "* Winners: Number of times the club has won the Premier League\n",
    "* Runners-up: Number of times the club has finished as runners-up in the Premier League\n",
    "* lastplayed_pl: Year in which the team last played in the Premier League\n",
    "\n",
    "**Project Objective**\n",
    "\n",
    "The management of the firm aims to invest in one of the top-performing club in the English Premier League. To aid in their decision-making process, the analytics department has been tasked with creating a comprehensive report on the performance of various clubs. However, some of the more established clubs have already been owned by the competitors. As a result, the firm wishes to identify the clubs they can approach and potentially invest to ensure a successful and profitable deal.\n"
   ]
  },
  {
   "cell_type": "code",
   "execution_count": 280,
   "id": "5d32121f",
   "metadata": {},
   "outputs": [],
   "source": [
    "#Importing the libraries\n",
    "import numpy as np\n",
    "import pandas as pd\n",
    "import matplotlib.pyplot as plt\n",
    "import seaborn as sns\n",
    "%matplotlib inline"
   ]
  },
  {
   "cell_type": "code",
   "execution_count": 281,
   "id": "08f54dc4",
   "metadata": {},
   "outputs": [],
   "source": [
    "#loading the dataset\n",
    "df=pd.read_csv('/Users/jensontmathew/Downloads/Premier_League_Final_Data_batch2.csv')"
   ]
  },
  {
   "cell_type": "code",
   "execution_count": 282,
   "id": "0c9f06c6",
   "metadata": {},
   "outputs": [
    {
     "data": {
      "text/html": [
       "<div>\n",
       "<style scoped>\n",
       "    .dataframe tbody tr th:only-of-type {\n",
       "        vertical-align: middle;\n",
       "    }\n",
       "\n",
       "    .dataframe tbody tr th {\n",
       "        vertical-align: top;\n",
       "    }\n",
       "\n",
       "    .dataframe thead th {\n",
       "        text-align: right;\n",
       "    }\n",
       "</style>\n",
       "<table border=\"1\" class=\"dataframe\">\n",
       "  <thead>\n",
       "    <tr style=\"text-align: right;\">\n",
       "      <th></th>\n",
       "      <th>Club</th>\n",
       "      <th>Matches Played</th>\n",
       "      <th>Win</th>\n",
       "      <th>Loss</th>\n",
       "      <th>Drawn</th>\n",
       "      <th>Goals</th>\n",
       "      <th>Clean Sheets</th>\n",
       "      <th>TeamLaunch</th>\n",
       "      <th>Winners</th>\n",
       "      <th>Runners-up</th>\n",
       "      <th>lastplayed_pl</th>\n",
       "    </tr>\n",
       "  </thead>\n",
       "  <tbody>\n",
       "    <tr>\n",
       "      <th>0</th>\n",
       "      <td>1Arsenal</td>\n",
       "      <td>1182</td>\n",
       "      <td>642</td>\n",
       "      <td>252</td>\n",
       "      <td>288</td>\n",
       "      <td>2089</td>\n",
       "      <td>448</td>\n",
       "      <td>1886</td>\n",
       "      <td>3.0</td>\n",
       "      <td>6</td>\n",
       "      <td>Apr-23</td>\n",
       "    </tr>\n",
       "    <tr>\n",
       "      <th>1</th>\n",
       "      <td>2Aston Villa</td>\n",
       "      <td>1062</td>\n",
       "      <td>368</td>\n",
       "      <td>399</td>\n",
       "      <td>295</td>\n",
       "      <td>1306</td>\n",
       "      <td>311</td>\n",
       "      <td>1874</td>\n",
       "      <td>0.0</td>\n",
       "      <td>1</td>\n",
       "      <td>Apr-23</td>\n",
       "    </tr>\n",
       "    <tr>\n",
       "      <th>2</th>\n",
       "      <td>3Birmingham City</td>\n",
       "      <td>266</td>\n",
       "      <td>73</td>\n",
       "      <td>111</td>\n",
       "      <td>82</td>\n",
       "      <td>273</td>\n",
       "      <td>66</td>\n",
       "      <td>1875</td>\n",
       "      <td>0.0</td>\n",
       "      <td>NaN</td>\n",
       "      <td>May-11</td>\n",
       "    </tr>\n",
       "    <tr>\n",
       "      <th>3</th>\n",
       "      <td>4Blackburn Rovers</td>\n",
       "      <td>696</td>\n",
       "      <td>262</td>\n",
       "      <td>250</td>\n",
       "      <td>184</td>\n",
       "      <td>927</td>\n",
       "      <td>210</td>\n",
       "      <td>1875</td>\n",
       "      <td>1.0</td>\n",
       "      <td>1</td>\n",
       "      <td>May-12</td>\n",
       "    </tr>\n",
       "    <tr>\n",
       "      <th>4</th>\n",
       "      <td>5Bolton Wanderers</td>\n",
       "      <td>494</td>\n",
       "      <td>149</td>\n",
       "      <td>217</td>\n",
       "      <td>128</td>\n",
       "      <td>575</td>\n",
       "      <td>108</td>\n",
       "      <td>1874</td>\n",
       "      <td>0.0</td>\n",
       "      <td>0</td>\n",
       "      <td>May-12</td>\n",
       "    </tr>\n",
       "  </tbody>\n",
       "</table>\n",
       "</div>"
      ],
      "text/plain": [
       "                Club  Matches Played  Win  Loss  Drawn  Goals  Clean Sheets  \\\n",
       "0           1Arsenal            1182  642   252    288   2089           448   \n",
       "1       2Aston Villa            1062  368   399    295   1306           311   \n",
       "2   3Birmingham City             266   73   111     82    273            66   \n",
       "3  4Blackburn Rovers             696  262   250    184    927           210   \n",
       "4  5Bolton Wanderers             494  149   217    128    575           108   \n",
       "\n",
       "  TeamLaunch  Winners Runners-up lastplayed_pl  \n",
       "0       1886      3.0          6        Apr-23  \n",
       "1       1874      0.0          1        Apr-23  \n",
       "2       1875      0.0        NaN        May-11  \n",
       "3       1875      1.0          1        May-12  \n",
       "4       1874      0.0          0        May-12  "
      ]
     },
     "execution_count": 282,
     "metadata": {},
     "output_type": "execute_result"
    }
   ],
   "source": [
    "df.head()"
   ]
  },
  {
   "cell_type": "code",
   "execution_count": 283,
   "id": "3bf2d278",
   "metadata": {},
   "outputs": [
    {
     "data": {
      "text/html": [
       "<div>\n",
       "<style scoped>\n",
       "    .dataframe tbody tr th:only-of-type {\n",
       "        vertical-align: middle;\n",
       "    }\n",
       "\n",
       "    .dataframe tbody tr th {\n",
       "        vertical-align: top;\n",
       "    }\n",
       "\n",
       "    .dataframe thead th {\n",
       "        text-align: right;\n",
       "    }\n",
       "</style>\n",
       "<table border=\"1\" class=\"dataframe\">\n",
       "  <thead>\n",
       "    <tr style=\"text-align: right;\">\n",
       "      <th></th>\n",
       "      <th>Club</th>\n",
       "      <th>Matches Played</th>\n",
       "      <th>Win</th>\n",
       "      <th>Loss</th>\n",
       "      <th>Drawn</th>\n",
       "      <th>Goals</th>\n",
       "      <th>Clean Sheets</th>\n",
       "      <th>TeamLaunch</th>\n",
       "      <th>Winners</th>\n",
       "      <th>Runners-up</th>\n",
       "      <th>lastplayed_pl</th>\n",
       "    </tr>\n",
       "  </thead>\n",
       "  <tbody>\n",
       "    <tr>\n",
       "      <th>35</th>\n",
       "      <td>36West Bromwich Albion</td>\n",
       "      <td>494</td>\n",
       "      <td>117</td>\n",
       "      <td>238</td>\n",
       "      <td>139</td>\n",
       "      <td>510</td>\n",
       "      <td>107</td>\n",
       "      <td>1878</td>\n",
       "      <td>NaN</td>\n",
       "      <td>0</td>\n",
       "      <td>Apr-18</td>\n",
       "    </tr>\n",
       "    <tr>\n",
       "      <th>36</th>\n",
       "      <td>37West Ham United</td>\n",
       "      <td>1025</td>\n",
       "      <td>343</td>\n",
       "      <td>423</td>\n",
       "      <td>259</td>\n",
       "      <td>1262</td>\n",
       "      <td>266</td>\n",
       "      <td>1895</td>\n",
       "      <td>NaN</td>\n",
       "      <td>0</td>\n",
       "      <td>Apr-23</td>\n",
       "    </tr>\n",
       "    <tr>\n",
       "      <th>37</th>\n",
       "      <td>38Wigan Athletic</td>\n",
       "      <td>304</td>\n",
       "      <td>85</td>\n",
       "      <td>143</td>\n",
       "      <td>76</td>\n",
       "      <td>316</td>\n",
       "      <td>73</td>\n",
       "      <td>1932</td>\n",
       "      <td>NaN</td>\n",
       "      <td>0</td>\n",
       "      <td>Apr-13</td>\n",
       "    </tr>\n",
       "    <tr>\n",
       "      <th>38</th>\n",
       "      <td>39Wolverhampton Wanderers</td>\n",
       "      <td>334</td>\n",
       "      <td>98</td>\n",
       "      <td>151</td>\n",
       "      <td>85</td>\n",
       "      <td>353</td>\n",
       "      <td>75</td>\n",
       "      <td>1877</td>\n",
       "      <td>0.0</td>\n",
       "      <td>0</td>\n",
       "      <td>Apr-23</td>\n",
       "    </tr>\n",
       "    <tr>\n",
       "      <th>39</th>\n",
       "      <td>40Portsmouth</td>\n",
       "      <td>266</td>\n",
       "      <td>79</td>\n",
       "      <td>122</td>\n",
       "      <td>65</td>\n",
       "      <td>292</td>\n",
       "      <td>61</td>\n",
       "      <td>April 1898</td>\n",
       "      <td>NaN</td>\n",
       "      <td>NaN</td>\n",
       "      <td>Apr-10</td>\n",
       "    </tr>\n",
       "  </tbody>\n",
       "</table>\n",
       "</div>"
      ],
      "text/plain": [
       "                         Club  Matches Played  Win  Loss  Drawn  Goals  \\\n",
       "35     36West Bromwich Albion             494  117   238    139    510   \n",
       "36          37West Ham United            1025  343   423    259   1262   \n",
       "37           38Wigan Athletic             304   85   143     76    316   \n",
       "38  39Wolverhampton Wanderers             334   98   151     85    353   \n",
       "39               40Portsmouth             266   79   122     65    292   \n",
       "\n",
       "    Clean Sheets  TeamLaunch  Winners Runners-up lastplayed_pl  \n",
       "35           107        1878      NaN          0        Apr-18  \n",
       "36           266        1895      NaN          0        Apr-23  \n",
       "37            73        1932      NaN          0        Apr-13  \n",
       "38            75        1877      0.0          0        Apr-23  \n",
       "39            61  April 1898      NaN        NaN        Apr-10  "
      ]
     },
     "execution_count": 283,
     "metadata": {},
     "output_type": "execute_result"
    }
   ],
   "source": [
    "df.tail()"
   ]
  },
  {
   "cell_type": "code",
   "execution_count": 284,
   "id": "a0534c74",
   "metadata": {},
   "outputs": [
    {
     "data": {
      "text/plain": [
       "(40, 11)"
      ]
     },
     "execution_count": 284,
     "metadata": {},
     "output_type": "execute_result"
    }
   ],
   "source": [
    "df.shape"
   ]
  },
  {
   "cell_type": "code",
   "execution_count": 285,
   "id": "7a4336e7",
   "metadata": {},
   "outputs": [
    {
     "name": "stdout",
     "output_type": "stream",
     "text": [
      "<class 'pandas.core.frame.DataFrame'>\n",
      "RangeIndex: 40 entries, 0 to 39\n",
      "Data columns (total 11 columns):\n",
      " #   Column          Non-Null Count  Dtype  \n",
      "---  ------          --------------  -----  \n",
      " 0   Club            40 non-null     object \n",
      " 1   Matches Played  40 non-null     int64  \n",
      " 2   Win             40 non-null     int64  \n",
      " 3   Loss            40 non-null     int64  \n",
      " 4   Drawn           40 non-null     int64  \n",
      " 5   Goals           40 non-null     int64  \n",
      " 6   Clean Sheets    40 non-null     int64  \n",
      " 7   TeamLaunch      40 non-null     object \n",
      " 8   Winners         25 non-null     float64\n",
      " 9   Runners-up      22 non-null     object \n",
      " 10  lastplayed_pl   40 non-null     object \n",
      "dtypes: float64(1), int64(6), object(4)\n",
      "memory usage: 3.6+ KB\n"
     ]
    }
   ],
   "source": [
    "df.info()"
   ]
  },
  {
   "cell_type": "markdown",
   "id": "f74bc7cd",
   "metadata": {},
   "source": [
    "# Cleaning the dataset"
   ]
  },
  {
   "cell_type": "code",
   "execution_count": 286,
   "id": "47d28800",
   "metadata": {},
   "outputs": [
    {
     "name": "stderr",
     "output_type": "stream",
     "text": [
      "/var/folders/pm/rykkh9p96rz7t0x93h8qkl9r0000gn/T/ipykernel_2041/1024696855.py:1: FutureWarning: The default value of regex will change from True to False in a future version.\n",
      "  df['Club']=df['Club'].str.replace('\\d+','')\n"
     ]
    }
   ],
   "source": [
    "df['Club']=df['Club'].str.replace('\\d+','')"
   ]
  },
  {
   "cell_type": "code",
   "execution_count": 287,
   "id": "93f39114",
   "metadata": {},
   "outputs": [
    {
     "data": {
      "text/html": [
       "<div>\n",
       "<style scoped>\n",
       "    .dataframe tbody tr th:only-of-type {\n",
       "        vertical-align: middle;\n",
       "    }\n",
       "\n",
       "    .dataframe tbody tr th {\n",
       "        vertical-align: top;\n",
       "    }\n",
       "\n",
       "    .dataframe thead th {\n",
       "        text-align: right;\n",
       "    }\n",
       "</style>\n",
       "<table border=\"1\" class=\"dataframe\">\n",
       "  <thead>\n",
       "    <tr style=\"text-align: right;\">\n",
       "      <th></th>\n",
       "      <th>Club</th>\n",
       "      <th>Matches Played</th>\n",
       "      <th>Win</th>\n",
       "      <th>Loss</th>\n",
       "      <th>Drawn</th>\n",
       "      <th>Goals</th>\n",
       "      <th>Clean Sheets</th>\n",
       "      <th>TeamLaunch</th>\n",
       "      <th>Winners</th>\n",
       "      <th>Runners-up</th>\n",
       "      <th>lastplayed_pl</th>\n",
       "    </tr>\n",
       "  </thead>\n",
       "  <tbody>\n",
       "    <tr>\n",
       "      <th>0</th>\n",
       "      <td>Arsenal</td>\n",
       "      <td>1182</td>\n",
       "      <td>642</td>\n",
       "      <td>252</td>\n",
       "      <td>288</td>\n",
       "      <td>2089</td>\n",
       "      <td>448</td>\n",
       "      <td>1886</td>\n",
       "      <td>3.0</td>\n",
       "      <td>6</td>\n",
       "      <td>Apr-23</td>\n",
       "    </tr>\n",
       "    <tr>\n",
       "      <th>1</th>\n",
       "      <td>Aston Villa</td>\n",
       "      <td>1062</td>\n",
       "      <td>368</td>\n",
       "      <td>399</td>\n",
       "      <td>295</td>\n",
       "      <td>1306</td>\n",
       "      <td>311</td>\n",
       "      <td>1874</td>\n",
       "      <td>0.0</td>\n",
       "      <td>1</td>\n",
       "      <td>Apr-23</td>\n",
       "    </tr>\n",
       "    <tr>\n",
       "      <th>2</th>\n",
       "      <td>Birmingham City</td>\n",
       "      <td>266</td>\n",
       "      <td>73</td>\n",
       "      <td>111</td>\n",
       "      <td>82</td>\n",
       "      <td>273</td>\n",
       "      <td>66</td>\n",
       "      <td>1875</td>\n",
       "      <td>0.0</td>\n",
       "      <td>NaN</td>\n",
       "      <td>May-11</td>\n",
       "    </tr>\n",
       "    <tr>\n",
       "      <th>3</th>\n",
       "      <td>Blackburn Rovers</td>\n",
       "      <td>696</td>\n",
       "      <td>262</td>\n",
       "      <td>250</td>\n",
       "      <td>184</td>\n",
       "      <td>927</td>\n",
       "      <td>210</td>\n",
       "      <td>1875</td>\n",
       "      <td>1.0</td>\n",
       "      <td>1</td>\n",
       "      <td>May-12</td>\n",
       "    </tr>\n",
       "    <tr>\n",
       "      <th>4</th>\n",
       "      <td>Bolton Wanderers</td>\n",
       "      <td>494</td>\n",
       "      <td>149</td>\n",
       "      <td>217</td>\n",
       "      <td>128</td>\n",
       "      <td>575</td>\n",
       "      <td>108</td>\n",
       "      <td>1874</td>\n",
       "      <td>0.0</td>\n",
       "      <td>0</td>\n",
       "      <td>May-12</td>\n",
       "    </tr>\n",
       "  </tbody>\n",
       "</table>\n",
       "</div>"
      ],
      "text/plain": [
       "               Club  Matches Played  Win  Loss  Drawn  Goals  Clean Sheets  \\\n",
       "0           Arsenal            1182  642   252    288   2089           448   \n",
       "1       Aston Villa            1062  368   399    295   1306           311   \n",
       "2   Birmingham City             266   73   111     82    273            66   \n",
       "3  Blackburn Rovers             696  262   250    184    927           210   \n",
       "4  Bolton Wanderers             494  149   217    128    575           108   \n",
       "\n",
       "  TeamLaunch  Winners Runners-up lastplayed_pl  \n",
       "0       1886      3.0          6        Apr-23  \n",
       "1       1874      0.0          1        Apr-23  \n",
       "2       1875      0.0        NaN        May-11  \n",
       "3       1875      1.0          1        May-12  \n",
       "4       1874      0.0          0        May-12  "
      ]
     },
     "execution_count": 287,
     "metadata": {},
     "output_type": "execute_result"
    }
   ],
   "source": [
    "df.head()"
   ]
  },
  {
   "cell_type": "code",
   "execution_count": 288,
   "id": "8ba52763",
   "metadata": {},
   "outputs": [
    {
     "data": {
      "text/plain": [
       "Club               0\n",
       "Matches Played     0\n",
       "Win                0\n",
       "Loss               0\n",
       "Drawn              0\n",
       "Goals              0\n",
       "Clean Sheets       0\n",
       "TeamLaunch         0\n",
       "Winners           15\n",
       "Runners-up        18\n",
       "lastplayed_pl      0\n",
       "dtype: int64"
      ]
     },
     "execution_count": 288,
     "metadata": {},
     "output_type": "execute_result"
    }
   ],
   "source": [
    "df.isna().sum()"
   ]
  },
  {
   "cell_type": "code",
   "execution_count": 289,
   "id": "994dbd3d",
   "metadata": {},
   "outputs": [
    {
     "data": {
      "text/plain": [
       "0.0     18\n",
       "1.0      3\n",
       "3.0      1\n",
       "5.0      1\n",
       "6.0      1\n",
       "13.0     1\n",
       "Name: Winners, dtype: int64"
      ]
     },
     "execution_count": 289,
     "metadata": {},
     "output_type": "execute_result"
    }
   ],
   "source": [
    "df['Winners'].value_counts()"
   ]
  },
  {
   "cell_type": "markdown",
   "id": "abd0da41",
   "metadata": {},
   "source": [
    "Here we can observe that the total match conducted is same as the total winning count . So we replace the null values to '0'"
   ]
  },
  {
   "cell_type": "code",
   "execution_count": 290,
   "id": "636b778f",
   "metadata": {},
   "outputs": [],
   "source": [
    "df['Winners'].fillna(0,inplace=True)"
   ]
  },
  {
   "cell_type": "code",
   "execution_count": 291,
   "id": "297cdb64",
   "metadata": {},
   "outputs": [
    {
     "data": {
      "text/plain": [
       "Club               0\n",
       "Matches Played     0\n",
       "Win                0\n",
       "Loss               0\n",
       "Drawn              0\n",
       "Goals              0\n",
       "Clean Sheets       0\n",
       "TeamLaunch         0\n",
       "Winners            0\n",
       "Runners-up        18\n",
       "lastplayed_pl      0\n",
       "dtype: int64"
      ]
     },
     "execution_count": 291,
     "metadata": {},
     "output_type": "execute_result"
    }
   ],
   "source": [
    "df.isna().sum()"
   ]
  },
  {
   "cell_type": "code",
   "execution_count": 292,
   "id": "c2517fa7",
   "metadata": {},
   "outputs": [
    {
     "data": {
      "text/plain": [
       "0    10\n",
       "1     3\n",
       "-     3\n",
       "6     1\n",
       "4     1\n",
       "5     1\n",
       "3     1\n",
       "7     1\n",
       "2     1\n",
       "Name: Runners-up, dtype: int64"
      ]
     },
     "execution_count": 292,
     "metadata": {},
     "output_type": "execute_result"
    }
   ],
   "source": [
    "df['Runners-up'].value_counts()"
   ]
  },
  {
   "cell_type": "markdown",
   "id": "d7192750",
   "metadata": {},
   "source": [
    "Similar to Winners column we replace the null column to 0 and also change the '-' to 0."
   ]
  },
  {
   "cell_type": "code",
   "execution_count": 293,
   "id": "cfb8824f",
   "metadata": {},
   "outputs": [],
   "source": [
    "df['Runners-up'].replace('-',0,inplace=True)\n",
    "df['Runners-up'].fillna(0,inplace=True)\n",
    "df['Runners-up']=df['Runners-up'].astype('int64')"
   ]
  },
  {
   "cell_type": "markdown",
   "id": "a6e398fe",
   "metadata": {},
   "source": [
    "Now we will look the TeamLaunch column"
   ]
  },
  {
   "cell_type": "code",
   "execution_count": 294,
   "id": "13e696c0",
   "metadata": {},
   "outputs": [
    {
     "data": {
      "text/plain": [
       "1878           3\n",
       "1886           2\n",
       "1905           2\n",
       "1874           2\n",
       "1892           2\n",
       "1879           2\n",
       "1884           2\n",
       "1882           2\n",
       "1875           2\n",
       "1895           1\n",
       "1881           1\n",
       "1904           1\n",
       "1932           1\n",
       "1912           1\n",
       "1863           1\n",
       "1877           1\n",
       "1885           1\n",
       "1867           1\n",
       "1889           1\n",
       "1894           1\n",
       "1865           1\n",
       "1902           1\n",
       "1876           1\n",
       "1919           1\n",
       "16 Oct 1878    1\n",
       "1861           1\n",
       "Aug 1883       1\n",
       "1901           1\n",
       "1899           1\n",
       "April 1898     1\n",
       "Name: TeamLaunch, dtype: int64"
      ]
     },
     "execution_count": 294,
     "metadata": {},
     "output_type": "execute_result"
    }
   ],
   "source": [
    "df['TeamLaunch'].value_counts()"
   ]
  },
  {
   "cell_type": "markdown",
   "id": "65d4e79f",
   "metadata": {},
   "source": [
    "Here we can see some values consist of month combined with year"
   ]
  },
  {
   "cell_type": "code",
   "execution_count": 295,
   "id": "2f40e0a9",
   "metadata": {},
   "outputs": [],
   "source": [
    "#converting the coloumn to datetime format\n",
    "df['TeamLaunch']=pd.to_datetime(df['TeamLaunch'],errors='coerce')\n",
    "#converting th column to YYYY format\n",
    "df['TeamLaunch']=df['TeamLaunch'].dt.strftime('%Y')"
   ]
  },
  {
   "cell_type": "markdown",
   "id": "c09a84b0",
   "metadata": {},
   "source": [
    "Now we convert the last played column to year only format"
   ]
  },
  {
   "cell_type": "code",
   "execution_count": 296,
   "id": "027d8a34",
   "metadata": {},
   "outputs": [],
   "source": [
    "df['lastplayed_pl']=pd.to_datetime(df['lastplayed_pl'],format='%b-%y',errors='coerce').dt.year"
   ]
  },
  {
   "cell_type": "markdown",
   "id": "05bc2d9a",
   "metadata": {},
   "source": [
    "Now we have done the data cleaning and now we look into analysing the data"
   ]
  },
  {
   "cell_type": "markdown",
   "id": "f1376c6a",
   "metadata": {},
   "source": [
    "# Data Analysis"
   ]
  },
  {
   "cell_type": "code",
   "execution_count": 297,
   "id": "2d1fab35",
   "metadata": {},
   "outputs": [
    {
     "data": {
      "text/html": [
       "<div>\n",
       "<style scoped>\n",
       "    .dataframe tbody tr th:only-of-type {\n",
       "        vertical-align: middle;\n",
       "    }\n",
       "\n",
       "    .dataframe tbody tr th {\n",
       "        vertical-align: top;\n",
       "    }\n",
       "\n",
       "    .dataframe thead th {\n",
       "        text-align: right;\n",
       "    }\n",
       "</style>\n",
       "<table border=\"1\" class=\"dataframe\">\n",
       "  <thead>\n",
       "    <tr style=\"text-align: right;\">\n",
       "      <th></th>\n",
       "      <th>Matches Played</th>\n",
       "      <th>Win</th>\n",
       "      <th>Loss</th>\n",
       "      <th>Drawn</th>\n",
       "      <th>Goals</th>\n",
       "      <th>Clean Sheets</th>\n",
       "      <th>Winners</th>\n",
       "      <th>Runners-up</th>\n",
       "      <th>lastplayed_pl</th>\n",
       "    </tr>\n",
       "  </thead>\n",
       "  <tbody>\n",
       "    <tr>\n",
       "      <th>count</th>\n",
       "      <td>40.000000</td>\n",
       "      <td>40.000000</td>\n",
       "      <td>40.000000</td>\n",
       "      <td>40.000000</td>\n",
       "      <td>40.000000</td>\n",
       "      <td>40.000000</td>\n",
       "      <td>40.000000</td>\n",
       "      <td>40.000000</td>\n",
       "      <td>40.000000</td>\n",
       "    </tr>\n",
       "    <tr>\n",
       "      <th>mean</th>\n",
       "      <td>573.750000</td>\n",
       "      <td>215.450000</td>\n",
       "      <td>210.425000</td>\n",
       "      <td>147.875000</td>\n",
       "      <td>769.000000</td>\n",
       "      <td>167.925000</td>\n",
       "      <td>0.750000</td>\n",
       "      <td>0.750000</td>\n",
       "      <td>2018.000000</td>\n",
       "    </tr>\n",
       "    <tr>\n",
       "      <th>std</th>\n",
       "      <td>358.986519</td>\n",
       "      <td>194.164608</td>\n",
       "      <td>102.132364</td>\n",
       "      <td>88.873632</td>\n",
       "      <td>627.746478</td>\n",
       "      <td>135.561584</td>\n",
       "      <td>2.372384</td>\n",
       "      <td>1.750458</td>\n",
       "      <td>6.876195</td>\n",
       "    </tr>\n",
       "    <tr>\n",
       "      <th>min</th>\n",
       "      <td>190.000000</td>\n",
       "      <td>41.000000</td>\n",
       "      <td>85.000000</td>\n",
       "      <td>48.000000</td>\n",
       "      <td>181.000000</td>\n",
       "      <td>45.000000</td>\n",
       "      <td>0.000000</td>\n",
       "      <td>0.000000</td>\n",
       "      <td>2000.000000</td>\n",
       "    </tr>\n",
       "    <tr>\n",
       "      <th>25%</th>\n",
       "      <td>275.000000</td>\n",
       "      <td>80.500000</td>\n",
       "      <td>127.500000</td>\n",
       "      <td>71.500000</td>\n",
       "      <td>304.500000</td>\n",
       "      <td>66.000000</td>\n",
       "      <td>0.000000</td>\n",
       "      <td>0.000000</td>\n",
       "      <td>2014.500000</td>\n",
       "    </tr>\n",
       "    <tr>\n",
       "      <th>50%</th>\n",
       "      <td>443.000000</td>\n",
       "      <td>116.500000</td>\n",
       "      <td>193.500000</td>\n",
       "      <td>120.000000</td>\n",
       "      <td>462.000000</td>\n",
       "      <td>104.000000</td>\n",
       "      <td>0.000000</td>\n",
       "      <td>0.000000</td>\n",
       "      <td>2022.000000</td>\n",
       "    </tr>\n",
       "    <tr>\n",
       "      <th>75%</th>\n",
       "      <td>934.750000</td>\n",
       "      <td>295.750000</td>\n",
       "      <td>263.000000</td>\n",
       "      <td>222.000000</td>\n",
       "      <td>1142.750000</td>\n",
       "      <td>244.250000</td>\n",
       "      <td>0.000000</td>\n",
       "      <td>0.000000</td>\n",
       "      <td>2023.000000</td>\n",
       "    </tr>\n",
       "    <tr>\n",
       "      <th>max</th>\n",
       "      <td>1182.000000</td>\n",
       "      <td>720.000000</td>\n",
       "      <td>429.000000</td>\n",
       "      <td>329.000000</td>\n",
       "      <td>2229.000000</td>\n",
       "      <td>491.000000</td>\n",
       "      <td>13.000000</td>\n",
       "      <td>7.000000</td>\n",
       "      <td>2023.000000</td>\n",
       "    </tr>\n",
       "  </tbody>\n",
       "</table>\n",
       "</div>"
      ],
      "text/plain": [
       "       Matches Played         Win        Loss       Drawn        Goals  \\\n",
       "count       40.000000   40.000000   40.000000   40.000000    40.000000   \n",
       "mean       573.750000  215.450000  210.425000  147.875000   769.000000   \n",
       "std        358.986519  194.164608  102.132364   88.873632   627.746478   \n",
       "min        190.000000   41.000000   85.000000   48.000000   181.000000   \n",
       "25%        275.000000   80.500000  127.500000   71.500000   304.500000   \n",
       "50%        443.000000  116.500000  193.500000  120.000000   462.000000   \n",
       "75%        934.750000  295.750000  263.000000  222.000000  1142.750000   \n",
       "max       1182.000000  720.000000  429.000000  329.000000  2229.000000   \n",
       "\n",
       "       Clean Sheets    Winners  Runners-up  lastplayed_pl  \n",
       "count     40.000000  40.000000   40.000000      40.000000  \n",
       "mean     167.925000   0.750000    0.750000    2018.000000  \n",
       "std      135.561584   2.372384    1.750458       6.876195  \n",
       "min       45.000000   0.000000    0.000000    2000.000000  \n",
       "25%       66.000000   0.000000    0.000000    2014.500000  \n",
       "50%      104.000000   0.000000    0.000000    2022.000000  \n",
       "75%      244.250000   0.000000    0.000000    2023.000000  \n",
       "max      491.000000  13.000000    7.000000    2023.000000  "
      ]
     },
     "execution_count": 297,
     "metadata": {},
     "output_type": "execute_result"
    }
   ],
   "source": [
    "df.describe()"
   ]
  },
  {
   "cell_type": "markdown",
   "id": "6ebd1390",
   "metadata": {},
   "source": [
    "The average number of matches played by each team in the tournament is 573.75, while the mean number of goals scored by all teams is 769. However, the median number of goals scored is much lower at 462, indicating that some teams have scored significantly more goals than others. \n",
    "\n",
    "Interestingly, the median number of wins and runners-up positions are both 0, suggesting that most teams have not won or finished as runners-up in the tournament. However, there is one team that has won the tournament a remarkable 13 times and another team that has been the runners-up 7 times. It would be interesting to find out which teams these are."
   ]
  },
  {
   "cell_type": "code",
   "execution_count": 298,
   "id": "9a20c36d",
   "metadata": {},
   "outputs": [
    {
     "data": {
      "text/plain": [
       "20    Manchester United\n",
       "Name: Club, dtype: object"
      ]
     },
     "execution_count": 298,
     "metadata": {},
     "output_type": "execute_result"
    }
   ],
   "source": [
    "#Team that has won Premier League 13 times\n",
    "df[df['Winners']==13]['Club']"
   ]
  },
  {
   "cell_type": "code",
   "execution_count": 299,
   "id": "3b4127db",
   "metadata": {},
   "outputs": [
    {
     "data": {
      "text/plain": [
       "20    Manchester United\n",
       "Name: Club, dtype: object"
      ]
     },
     "execution_count": 299,
     "metadata": {},
     "output_type": "execute_result"
    }
   ],
   "source": [
    "#Team that is runner up 7 times\n",
    "df[df['Runners-up']==7]['Club']"
   ]
  },
  {
   "cell_type": "markdown",
   "id": "bb18630b",
   "metadata": {},
   "source": [
    "Manchester United has won Premier league 13 times and have been runner-up 7 times."
   ]
  },
  {
   "cell_type": "code",
   "execution_count": 300,
   "id": "184677ff",
   "metadata": {},
   "outputs": [
    {
     "data": {
      "text/plain": [
       "Text(0.5, 1.0, 'Histogram of Matches Played')"
      ]
     },
     "execution_count": 300,
     "metadata": {},
     "output_type": "execute_result"
    },
    {
     "data": {
      "image/png": "[encoded data removed]",
      "text/plain": [
       "<Figure size 640x480 with 1 Axes>"
      ]
     },
     "metadata": {},
     "output_type": "display_data"
    }
   ],
   "source": [
    "#Data Visualisation\n",
    "#We can look at the matches played by each club\n",
    "\n",
    "sns.histplot(df['Matches Played'],color='y',bins=30)\n",
    "plt.title('Histogram of Matches Played')"
   ]
  },
  {
   "cell_type": "markdown",
   "id": "af26a170",
   "metadata": {},
   "source": [
    "Here we observe that majority of the team has playes less than 400 and some teams played matches greater thean 900 which are the well established clubs.\n",
    "As per our projects requirements it is worth noting that some of the more established clubs have already been owned by the competitors. Therefore, the client is interested in identifying potential clubs that may perform well in the future, even if they have less experience in the Premier League."
   ]
  },
  {
   "cell_type": "code",
   "execution_count": 301,
   "id": "8d08037d",
   "metadata": {},
   "outputs": [
    {
     "data": {
      "text/plain": [
       "0               Arsenal\n",
       "1           Aston Villa\n",
       "9               Chelsea\n",
       "13              Everton\n",
       "18            Liverpool\n",
       "19      Manchester City\n",
       "20    Manchester United\n",
       "22     Newcastle United\n",
       "29          Southampton\n",
       "33    Tottenham Hotspur\n",
       "36      West Ham United\n",
       "Name: Club, dtype: object"
      ]
     },
     "execution_count": 301,
     "metadata": {},
     "output_type": "execute_result"
    }
   ],
   "source": [
    "# Identify teams who have played more than 900 matches\n",
    "\n",
    "df[df['Matches Played']>=900]['Club']"
   ]
  },
  {
   "cell_type": "code",
   "execution_count": 302,
   "id": "4eeb6f09",
   "metadata": {},
   "outputs": [
    {
     "data": {
      "text/html": [
       "<div>\n",
       "<style scoped>\n",
       "    .dataframe tbody tr th:only-of-type {\n",
       "        vertical-align: middle;\n",
       "    }\n",
       "\n",
       "    .dataframe tbody tr th {\n",
       "        vertical-align: top;\n",
       "    }\n",
       "\n",
       "    .dataframe thead th {\n",
       "        text-align: right;\n",
       "    }\n",
       "</style>\n",
       "<table border=\"1\" class=\"dataframe\">\n",
       "  <thead>\n",
       "    <tr style=\"text-align: right;\">\n",
       "      <th></th>\n",
       "      <th>Club</th>\n",
       "      <th>Matches Played</th>\n",
       "      <th>Win</th>\n",
       "      <th>Loss</th>\n",
       "      <th>Drawn</th>\n",
       "      <th>Goals</th>\n",
       "      <th>Clean Sheets</th>\n",
       "      <th>TeamLaunch</th>\n",
       "      <th>Winners</th>\n",
       "      <th>Runners-up</th>\n",
       "      <th>lastplayed_pl</th>\n",
       "    </tr>\n",
       "  </thead>\n",
       "  <tbody>\n",
       "    <tr>\n",
       "      <th>2</th>\n",
       "      <td>Birmingham City</td>\n",
       "      <td>266</td>\n",
       "      <td>73</td>\n",
       "      <td>111</td>\n",
       "      <td>82</td>\n",
       "      <td>273</td>\n",
       "      <td>66</td>\n",
       "      <td>1875</td>\n",
       "      <td>0.0</td>\n",
       "      <td>0</td>\n",
       "      <td>2011</td>\n",
       "    </tr>\n",
       "    <tr>\n",
       "      <th>3</th>\n",
       "      <td>Blackburn Rovers</td>\n",
       "      <td>696</td>\n",
       "      <td>262</td>\n",
       "      <td>250</td>\n",
       "      <td>184</td>\n",
       "      <td>927</td>\n",
       "      <td>210</td>\n",
       "      <td>1875</td>\n",
       "      <td>1.0</td>\n",
       "      <td>1</td>\n",
       "      <td>2012</td>\n",
       "    </tr>\n",
       "    <tr>\n",
       "      <th>4</th>\n",
       "      <td>Bolton Wanderers</td>\n",
       "      <td>494</td>\n",
       "      <td>149</td>\n",
       "      <td>217</td>\n",
       "      <td>128</td>\n",
       "      <td>575</td>\n",
       "      <td>108</td>\n",
       "      <td>1874</td>\n",
       "      <td>0.0</td>\n",
       "      <td>0</td>\n",
       "      <td>2012</td>\n",
       "    </tr>\n",
       "    <tr>\n",
       "      <th>5</th>\n",
       "      <td>Bournemouth</td>\n",
       "      <td>219</td>\n",
       "      <td>64</td>\n",
       "      <td>107</td>\n",
       "      <td>48</td>\n",
       "      <td>269</td>\n",
       "      <td>45</td>\n",
       "      <td>1899</td>\n",
       "      <td>0.0</td>\n",
       "      <td>0</td>\n",
       "      <td>2023</td>\n",
       "    </tr>\n",
       "    <tr>\n",
       "      <th>6</th>\n",
       "      <td>Brighton &amp; Hove Albion</td>\n",
       "      <td>218</td>\n",
       "      <td>61</td>\n",
       "      <td>85</td>\n",
       "      <td>72</td>\n",
       "      <td>243</td>\n",
       "      <td>58</td>\n",
       "      <td>1901</td>\n",
       "      <td>0.0</td>\n",
       "      <td>0</td>\n",
       "      <td>2023</td>\n",
       "    </tr>\n",
       "    <tr>\n",
       "      <th>7</th>\n",
       "      <td>Burnley</td>\n",
       "      <td>304</td>\n",
       "      <td>83</td>\n",
       "      <td>145</td>\n",
       "      <td>76</td>\n",
       "      <td>300</td>\n",
       "      <td>78</td>\n",
       "      <td>1882</td>\n",
       "      <td>0.0</td>\n",
       "      <td>0</td>\n",
       "      <td>2022</td>\n",
       "    </tr>\n",
       "    <tr>\n",
       "      <th>8</th>\n",
       "      <td>Charlton Athletic</td>\n",
       "      <td>304</td>\n",
       "      <td>93</td>\n",
       "      <td>129</td>\n",
       "      <td>82</td>\n",
       "      <td>342</td>\n",
       "      <td>91</td>\n",
       "      <td>1905</td>\n",
       "      <td>0.0</td>\n",
       "      <td>0</td>\n",
       "      <td>2007</td>\n",
       "    </tr>\n",
       "    <tr>\n",
       "      <th>10</th>\n",
       "      <td>Coventry City</td>\n",
       "      <td>354</td>\n",
       "      <td>99</td>\n",
       "      <td>143</td>\n",
       "      <td>112</td>\n",
       "      <td>387</td>\n",
       "      <td>92</td>\n",
       "      <td>1883</td>\n",
       "      <td>0.0</td>\n",
       "      <td>0</td>\n",
       "      <td>2001</td>\n",
       "    </tr>\n",
       "    <tr>\n",
       "      <th>11</th>\n",
       "      <td>Crystal Palace</td>\n",
       "      <td>532</td>\n",
       "      <td>153</td>\n",
       "      <td>241</td>\n",
       "      <td>138</td>\n",
       "      <td>576</td>\n",
       "      <td>133</td>\n",
       "      <td>1861</td>\n",
       "      <td>0.0</td>\n",
       "      <td>0</td>\n",
       "      <td>2023</td>\n",
       "    </tr>\n",
       "    <tr>\n",
       "      <th>12</th>\n",
       "      <td>Derby County</td>\n",
       "      <td>266</td>\n",
       "      <td>68</td>\n",
       "      <td>128</td>\n",
       "      <td>70</td>\n",
       "      <td>271</td>\n",
       "      <td>66</td>\n",
       "      <td>1884</td>\n",
       "      <td>0.0</td>\n",
       "      <td>0</td>\n",
       "      <td>2008</td>\n",
       "    </tr>\n",
       "    <tr>\n",
       "      <th>14</th>\n",
       "      <td>Fulham</td>\n",
       "      <td>599</td>\n",
       "      <td>173</td>\n",
       "      <td>266</td>\n",
       "      <td>160</td>\n",
       "      <td>670</td>\n",
       "      <td>160</td>\n",
       "      <td>1879</td>\n",
       "      <td>0.0</td>\n",
       "      <td>0</td>\n",
       "      <td>2023</td>\n",
       "    </tr>\n",
       "    <tr>\n",
       "      <th>15</th>\n",
       "      <td>Ipswich Town</td>\n",
       "      <td>202</td>\n",
       "      <td>57</td>\n",
       "      <td>92</td>\n",
       "      <td>53</td>\n",
       "      <td>219</td>\n",
       "      <td>49</td>\n",
       "      <td>1878</td>\n",
       "      <td>0.0</td>\n",
       "      <td>0</td>\n",
       "      <td>2002</td>\n",
       "    </tr>\n",
       "    <tr>\n",
       "      <th>16</th>\n",
       "      <td>Leeds United</td>\n",
       "      <td>574</td>\n",
       "      <td>223</td>\n",
       "      <td>202</td>\n",
       "      <td>149</td>\n",
       "      <td>784</td>\n",
       "      <td>179</td>\n",
       "      <td>1919</td>\n",
       "      <td>0.0</td>\n",
       "      <td>0</td>\n",
       "      <td>2023</td>\n",
       "    </tr>\n",
       "    <tr>\n",
       "      <th>17</th>\n",
       "      <td>Leicester City</td>\n",
       "      <td>642</td>\n",
       "      <td>216</td>\n",
       "      <td>262</td>\n",
       "      <td>164</td>\n",
       "      <td>860</td>\n",
       "      <td>167</td>\n",
       "      <td>1884</td>\n",
       "      <td>1.0</td>\n",
       "      <td>0</td>\n",
       "      <td>2023</td>\n",
       "    </tr>\n",
       "    <tr>\n",
       "      <th>21</th>\n",
       "      <td>Middlesbrough</td>\n",
       "      <td>574</td>\n",
       "      <td>165</td>\n",
       "      <td>240</td>\n",
       "      <td>169</td>\n",
       "      <td>648</td>\n",
       "      <td>147</td>\n",
       "      <td>1876</td>\n",
       "      <td>0.0</td>\n",
       "      <td>0</td>\n",
       "      <td>2017</td>\n",
       "    </tr>\n",
       "    <tr>\n",
       "      <th>23</th>\n",
       "      <td>Norwich City</td>\n",
       "      <td>392</td>\n",
       "      <td>99</td>\n",
       "      <td>188</td>\n",
       "      <td>105</td>\n",
       "      <td>414</td>\n",
       "      <td>78</td>\n",
       "      <td>1902</td>\n",
       "      <td>0.0</td>\n",
       "      <td>0</td>\n",
       "      <td>2022</td>\n",
       "    </tr>\n",
       "    <tr>\n",
       "      <th>24</th>\n",
       "      <td>Nottingham Forest</td>\n",
       "      <td>227</td>\n",
       "      <td>66</td>\n",
       "      <td>94</td>\n",
       "      <td>67</td>\n",
       "      <td>253</td>\n",
       "      <td>52</td>\n",
       "      <td>1865</td>\n",
       "      <td>0.0</td>\n",
       "      <td>0</td>\n",
       "      <td>2023</td>\n",
       "    </tr>\n",
       "    <tr>\n",
       "      <th>25</th>\n",
       "      <td>Hull City</td>\n",
       "      <td>190</td>\n",
       "      <td>41</td>\n",
       "      <td>101</td>\n",
       "      <td>48</td>\n",
       "      <td>181</td>\n",
       "      <td>58</td>\n",
       "      <td>1904</td>\n",
       "      <td>0.0</td>\n",
       "      <td>0</td>\n",
       "      <td>2017</td>\n",
       "    </tr>\n",
       "    <tr>\n",
       "      <th>26</th>\n",
       "      <td>Queens Park Rangers</td>\n",
       "      <td>278</td>\n",
       "      <td>81</td>\n",
       "      <td>132</td>\n",
       "      <td>65</td>\n",
       "      <td>339</td>\n",
       "      <td>53</td>\n",
       "      <td>1886</td>\n",
       "      <td>0.0</td>\n",
       "      <td>0</td>\n",
       "      <td>2015</td>\n",
       "    </tr>\n",
       "    <tr>\n",
       "      <th>27</th>\n",
       "      <td>Sheffield United</td>\n",
       "      <td>198</td>\n",
       "      <td>53</td>\n",
       "      <td>95</td>\n",
       "      <td>50</td>\n",
       "      <td>187</td>\n",
       "      <td>50</td>\n",
       "      <td>1889</td>\n",
       "      <td>0.0</td>\n",
       "      <td>0</td>\n",
       "      <td>2021</td>\n",
       "    </tr>\n",
       "    <tr>\n",
       "      <th>28</th>\n",
       "      <td>Sheffield Wednesday</td>\n",
       "      <td>316</td>\n",
       "      <td>101</td>\n",
       "      <td>126</td>\n",
       "      <td>89</td>\n",
       "      <td>409</td>\n",
       "      <td>78</td>\n",
       "      <td>1867</td>\n",
       "      <td>0.0</td>\n",
       "      <td>0</td>\n",
       "      <td>2000</td>\n",
       "    </tr>\n",
       "    <tr>\n",
       "      <th>30</th>\n",
       "      <td>Stoke City</td>\n",
       "      <td>380</td>\n",
       "      <td>116</td>\n",
       "      <td>155</td>\n",
       "      <td>109</td>\n",
       "      <td>398</td>\n",
       "      <td>101</td>\n",
       "      <td>1863</td>\n",
       "      <td>0.0</td>\n",
       "      <td>0</td>\n",
       "      <td>2018</td>\n",
       "    </tr>\n",
       "    <tr>\n",
       "      <th>31</th>\n",
       "      <td>Sunderland</td>\n",
       "      <td>608</td>\n",
       "      <td>153</td>\n",
       "      <td>296</td>\n",
       "      <td>159</td>\n",
       "      <td>612</td>\n",
       "      <td>150</td>\n",
       "      <td>1879</td>\n",
       "      <td>0.0</td>\n",
       "      <td>0</td>\n",
       "      <td>2017</td>\n",
       "    </tr>\n",
       "    <tr>\n",
       "      <th>32</th>\n",
       "      <td>Swansea City</td>\n",
       "      <td>266</td>\n",
       "      <td>82</td>\n",
       "      <td>118</td>\n",
       "      <td>66</td>\n",
       "      <td>306</td>\n",
       "      <td>71</td>\n",
       "      <td>1912</td>\n",
       "      <td>0.0</td>\n",
       "      <td>0</td>\n",
       "      <td>2018</td>\n",
       "    </tr>\n",
       "    <tr>\n",
       "      <th>34</th>\n",
       "      <td>Watford</td>\n",
       "      <td>305</td>\n",
       "      <td>73</td>\n",
       "      <td>165</td>\n",
       "      <td>67</td>\n",
       "      <td>310</td>\n",
       "      <td>62</td>\n",
       "      <td>1881</td>\n",
       "      <td>0.0</td>\n",
       "      <td>0</td>\n",
       "      <td>2022</td>\n",
       "    </tr>\n",
       "    <tr>\n",
       "      <th>35</th>\n",
       "      <td>West Bromwich Albion</td>\n",
       "      <td>494</td>\n",
       "      <td>117</td>\n",
       "      <td>238</td>\n",
       "      <td>139</td>\n",
       "      <td>510</td>\n",
       "      <td>107</td>\n",
       "      <td>1878</td>\n",
       "      <td>0.0</td>\n",
       "      <td>0</td>\n",
       "      <td>2018</td>\n",
       "    </tr>\n",
       "    <tr>\n",
       "      <th>37</th>\n",
       "      <td>Wigan Athletic</td>\n",
       "      <td>304</td>\n",
       "      <td>85</td>\n",
       "      <td>143</td>\n",
       "      <td>76</td>\n",
       "      <td>316</td>\n",
       "      <td>73</td>\n",
       "      <td>1932</td>\n",
       "      <td>0.0</td>\n",
       "      <td>0</td>\n",
       "      <td>2013</td>\n",
       "    </tr>\n",
       "    <tr>\n",
       "      <th>38</th>\n",
       "      <td>Wolverhampton Wanderers</td>\n",
       "      <td>334</td>\n",
       "      <td>98</td>\n",
       "      <td>151</td>\n",
       "      <td>85</td>\n",
       "      <td>353</td>\n",
       "      <td>75</td>\n",
       "      <td>1877</td>\n",
       "      <td>0.0</td>\n",
       "      <td>0</td>\n",
       "      <td>2023</td>\n",
       "    </tr>\n",
       "    <tr>\n",
       "      <th>39</th>\n",
       "      <td>Portsmouth</td>\n",
       "      <td>266</td>\n",
       "      <td>79</td>\n",
       "      <td>122</td>\n",
       "      <td>65</td>\n",
       "      <td>292</td>\n",
       "      <td>61</td>\n",
       "      <td>1898</td>\n",
       "      <td>0.0</td>\n",
       "      <td>0</td>\n",
       "      <td>2010</td>\n",
       "    </tr>\n",
       "  </tbody>\n",
       "</table>\n",
       "</div>"
      ],
      "text/plain": [
       "                       Club  Matches Played  Win  Loss  Drawn  Goals  \\\n",
       "2           Birmingham City             266   73   111     82    273   \n",
       "3          Blackburn Rovers             696  262   250    184    927   \n",
       "4          Bolton Wanderers             494  149   217    128    575   \n",
       "5               Bournemouth             219   64   107     48    269   \n",
       "6    Brighton & Hove Albion             218   61    85     72    243   \n",
       "7                   Burnley             304   83   145     76    300   \n",
       "8         Charlton Athletic             304   93   129     82    342   \n",
       "10            Coventry City             354   99   143    112    387   \n",
       "11           Crystal Palace             532  153   241    138    576   \n",
       "12             Derby County             266   68   128     70    271   \n",
       "14                   Fulham             599  173   266    160    670   \n",
       "15             Ipswich Town             202   57    92     53    219   \n",
       "16             Leeds United             574  223   202    149    784   \n",
       "17           Leicester City             642  216   262    164    860   \n",
       "21            Middlesbrough             574  165   240    169    648   \n",
       "23             Norwich City             392   99   188    105    414   \n",
       "24        Nottingham Forest             227   66    94     67    253   \n",
       "25                Hull City             190   41   101     48    181   \n",
       "26      Queens Park Rangers             278   81   132     65    339   \n",
       "27         Sheffield United             198   53    95     50    187   \n",
       "28      Sheffield Wednesday             316  101   126     89    409   \n",
       "30               Stoke City             380  116   155    109    398   \n",
       "31               Sunderland             608  153   296    159    612   \n",
       "32             Swansea City             266   82   118     66    306   \n",
       "34                  Watford             305   73   165     67    310   \n",
       "35     West Bromwich Albion             494  117   238    139    510   \n",
       "37           Wigan Athletic             304   85   143     76    316   \n",
       "38  Wolverhampton Wanderers             334   98   151     85    353   \n",
       "39               Portsmouth             266   79   122     65    292   \n",
       "\n",
       "    Clean Sheets TeamLaunch  Winners  Runners-up  lastplayed_pl  \n",
       "2             66       1875      0.0           0           2011  \n",
       "3            210       1875      1.0           1           2012  \n",
       "4            108       1874      0.0           0           2012  \n",
       "5             45       1899      0.0           0           2023  \n",
       "6             58       1901      0.0           0           2023  \n",
       "7             78       1882      0.0           0           2022  \n",
       "8             91       1905      0.0           0           2007  \n",
       "10            92       1883      0.0           0           2001  \n",
       "11           133       1861      0.0           0           2023  \n",
       "12            66       1884      0.0           0           2008  \n",
       "14           160       1879      0.0           0           2023  \n",
       "15            49       1878      0.0           0           2002  \n",
       "16           179       1919      0.0           0           2023  \n",
       "17           167       1884      1.0           0           2023  \n",
       "21           147       1876      0.0           0           2017  \n",
       "23            78       1902      0.0           0           2022  \n",
       "24            52       1865      0.0           0           2023  \n",
       "25            58       1904      0.0           0           2017  \n",
       "26            53       1886      0.0           0           2015  \n",
       "27            50       1889      0.0           0           2021  \n",
       "28            78       1867      0.0           0           2000  \n",
       "30           101       1863      0.0           0           2018  \n",
       "31           150       1879      0.0           0           2017  \n",
       "32            71       1912      0.0           0           2018  \n",
       "34            62       1881      0.0           0           2022  \n",
       "35           107       1878      0.0           0           2018  \n",
       "37            73       1932      0.0           0           2013  \n",
       "38            75       1877      0.0           0           2023  \n",
       "39            61       1898      0.0           0           2010  "
      ]
     },
     "execution_count": 302,
     "metadata": {},
     "output_type": "execute_result"
    }
   ],
   "source": [
    "df[df['Matches Played']<900]"
   ]
  },
  {
   "cell_type": "markdown",
   "id": "30495d94",
   "metadata": {},
   "source": [
    "Now we filter our dataset by the Matchesplayed is less than 900"
   ]
  },
  {
   "cell_type": "code",
   "execution_count": 303,
   "id": "2b530d83",
   "metadata": {},
   "outputs": [],
   "source": [
    "df=df[df['Matches Played']<900].reset_index(drop=True)"
   ]
  },
  {
   "cell_type": "code",
   "execution_count": 304,
   "id": "d1a44849",
   "metadata": {},
   "outputs": [
    {
     "data": {
      "text/plain": [
       "(29, 11)"
      ]
     },
     "execution_count": 304,
     "metadata": {},
     "output_type": "execute_result"
    }
   ],
   "source": [
    "#checking the shape of the new dataset\n",
    "df.shape"
   ]
  },
  {
   "cell_type": "markdown",
   "id": "17d7dff4",
   "metadata": {},
   "source": [
    "We create new columns for Win Rate,Loss Rate,Drawn Rate and Clean Sheet rate because the number of matches played by every club is different."
   ]
  },
  {
   "cell_type": "code",
   "execution_count": 305,
   "id": "f1fc1527",
   "metadata": {},
   "outputs": [],
   "source": [
    "df['Win Rate']=(df['Win']/df['Matches Played'])*100\n",
    "df['Loss Rate']=(df['Loss']/df['Matches Played'])*100\n",
    "df['Drawn Rate']=(df['Drawn']/df['Matches Played'])*100\n",
    "df['Clean Sheet Rate']=(df['Clean Sheets']/df['Matches Played'])*100"
   ]
  },
  {
   "cell_type": "code",
   "execution_count": 306,
   "id": "ca186478",
   "metadata": {},
   "outputs": [],
   "source": [
    "df['Average Goals Per Match']=(df['Goals']/df['Matches Played']).round()"
   ]
  },
  {
   "cell_type": "code",
   "execution_count": 307,
   "id": "373fd87f",
   "metadata": {},
   "outputs": [
    {
     "data": {
      "text/html": [
       "<div>\n",
       "<style scoped>\n",
       "    .dataframe tbody tr th:only-of-type {\n",
       "        vertical-align: middle;\n",
       "    }\n",
       "\n",
       "    .dataframe tbody tr th {\n",
       "        vertical-align: top;\n",
       "    }\n",
       "\n",
       "    .dataframe thead th {\n",
       "        text-align: right;\n",
       "    }\n",
       "</style>\n",
       "<table border=\"1\" class=\"dataframe\">\n",
       "  <thead>\n",
       "    <tr style=\"text-align: right;\">\n",
       "      <th></th>\n",
       "      <th>Club</th>\n",
       "      <th>Matches Played</th>\n",
       "      <th>Win</th>\n",
       "      <th>Loss</th>\n",
       "      <th>Drawn</th>\n",
       "      <th>Goals</th>\n",
       "      <th>Clean Sheets</th>\n",
       "      <th>TeamLaunch</th>\n",
       "      <th>Winners</th>\n",
       "      <th>Runners-up</th>\n",
       "      <th>lastplayed_pl</th>\n",
       "      <th>Win Rate</th>\n",
       "      <th>Loss Rate</th>\n",
       "      <th>Drawn Rate</th>\n",
       "      <th>Clean Sheet Rate</th>\n",
       "      <th>Average Goals Per Match</th>\n",
       "    </tr>\n",
       "  </thead>\n",
       "  <tbody>\n",
       "    <tr>\n",
       "      <th>0</th>\n",
       "      <td>Birmingham City</td>\n",
       "      <td>266</td>\n",
       "      <td>73</td>\n",
       "      <td>111</td>\n",
       "      <td>82</td>\n",
       "      <td>273</td>\n",
       "      <td>66</td>\n",
       "      <td>1875</td>\n",
       "      <td>0.0</td>\n",
       "      <td>0</td>\n",
       "      <td>2011</td>\n",
       "      <td>27.443609</td>\n",
       "      <td>41.729323</td>\n",
       "      <td>30.827068</td>\n",
       "      <td>24.812030</td>\n",
       "      <td>1.0</td>\n",
       "    </tr>\n",
       "    <tr>\n",
       "      <th>1</th>\n",
       "      <td>Blackburn Rovers</td>\n",
       "      <td>696</td>\n",
       "      <td>262</td>\n",
       "      <td>250</td>\n",
       "      <td>184</td>\n",
       "      <td>927</td>\n",
       "      <td>210</td>\n",
       "      <td>1875</td>\n",
       "      <td>1.0</td>\n",
       "      <td>1</td>\n",
       "      <td>2012</td>\n",
       "      <td>37.643678</td>\n",
       "      <td>35.919540</td>\n",
       "      <td>26.436782</td>\n",
       "      <td>30.172414</td>\n",
       "      <td>1.0</td>\n",
       "    </tr>\n",
       "    <tr>\n",
       "      <th>2</th>\n",
       "      <td>Bolton Wanderers</td>\n",
       "      <td>494</td>\n",
       "      <td>149</td>\n",
       "      <td>217</td>\n",
       "      <td>128</td>\n",
       "      <td>575</td>\n",
       "      <td>108</td>\n",
       "      <td>1874</td>\n",
       "      <td>0.0</td>\n",
       "      <td>0</td>\n",
       "      <td>2012</td>\n",
       "      <td>30.161943</td>\n",
       "      <td>43.927126</td>\n",
       "      <td>25.910931</td>\n",
       "      <td>21.862348</td>\n",
       "      <td>1.0</td>\n",
       "    </tr>\n",
       "    <tr>\n",
       "      <th>3</th>\n",
       "      <td>Bournemouth</td>\n",
       "      <td>219</td>\n",
       "      <td>64</td>\n",
       "      <td>107</td>\n",
       "      <td>48</td>\n",
       "      <td>269</td>\n",
       "      <td>45</td>\n",
       "      <td>1899</td>\n",
       "      <td>0.0</td>\n",
       "      <td>0</td>\n",
       "      <td>2023</td>\n",
       "      <td>29.223744</td>\n",
       "      <td>48.858447</td>\n",
       "      <td>21.917808</td>\n",
       "      <td>20.547945</td>\n",
       "      <td>1.0</td>\n",
       "    </tr>\n",
       "    <tr>\n",
       "      <th>4</th>\n",
       "      <td>Brighton &amp; Hove Albion</td>\n",
       "      <td>218</td>\n",
       "      <td>61</td>\n",
       "      <td>85</td>\n",
       "      <td>72</td>\n",
       "      <td>243</td>\n",
       "      <td>58</td>\n",
       "      <td>1901</td>\n",
       "      <td>0.0</td>\n",
       "      <td>0</td>\n",
       "      <td>2023</td>\n",
       "      <td>27.981651</td>\n",
       "      <td>38.990826</td>\n",
       "      <td>33.027523</td>\n",
       "      <td>26.605505</td>\n",
       "      <td>1.0</td>\n",
       "    </tr>\n",
       "  </tbody>\n",
       "</table>\n",
       "</div>"
      ],
      "text/plain": [
       "                     Club  Matches Played  Win  Loss  Drawn  Goals  \\\n",
       "0         Birmingham City             266   73   111     82    273   \n",
       "1        Blackburn Rovers             696  262   250    184    927   \n",
       "2        Bolton Wanderers             494  149   217    128    575   \n",
       "3             Bournemouth             219   64   107     48    269   \n",
       "4  Brighton & Hove Albion             218   61    85     72    243   \n",
       "\n",
       "   Clean Sheets TeamLaunch  Winners  Runners-up  lastplayed_pl   Win Rate  \\\n",
       "0            66       1875      0.0           0           2011  27.443609   \n",
       "1           210       1875      1.0           1           2012  37.643678   \n",
       "2           108       1874      0.0           0           2012  30.161943   \n",
       "3            45       1899      0.0           0           2023  29.223744   \n",
       "4            58       1901      0.0           0           2023  27.981651   \n",
       "\n",
       "   Loss Rate  Drawn Rate  Clean Sheet Rate  Average Goals Per Match  \n",
       "0  41.729323   30.827068         24.812030                      1.0  \n",
       "1  35.919540   26.436782         30.172414                      1.0  \n",
       "2  43.927126   25.910931         21.862348                      1.0  \n",
       "3  48.858447   21.917808         20.547945                      1.0  \n",
       "4  38.990826   33.027523         26.605505                      1.0  "
      ]
     },
     "execution_count": 307,
     "metadata": {},
     "output_type": "execute_result"
    }
   ],
   "source": [
    "df.head()"
   ]
  },
  {
   "cell_type": "markdown",
   "id": "426eefcc",
   "metadata": {},
   "source": [
    "Now we create a boxplot "
   ]
  },
  {
   "cell_type": "code",
   "execution_count": 308,
   "id": "56e49e4a",
   "metadata": {},
   "outputs": [
    {
     "data": {
      "text/plain": [
       "Text(0, 0.5, 'Rate')"
      ]
     },
     "execution_count": 308,
     "metadata": {},
     "output_type": "execute_result"
    },
    {
     "data": {
      "image/png": "[encoded data removed]",
      "text/plain": [
       "<Figure size 800x600 with 1 Axes>"
      ]
     },
     "metadata": {},
     "output_type": "display_data"
    }
   ],
   "source": [
    "plt.figure(figsize=(8, 6))\n",
    "sx=sns.boxplot(data=[df['Win Rate'],df['Loss Rate'],df['Drawn Rate'],df['Clean Sheet Rate']])\n",
    "sx.set_xticklabels(['Win Rate','Loss Rate','Drawn Rate','Clean Sheet Rate'])\n",
    "# Set the title and axis labels\n",
    "plt.title('Distribution of Win Rate, Drawn Rate, Loss Rate and Clean Sheet Rate',fontname='Arial', fontsize=11)\n",
    "plt.xlabel('Win, Drawn ,Lost Game & Clean Sheet')\n",
    "plt.ylabel('Rate')"
   ]
  },
  {
   "cell_type": "markdown",
   "id": "c743f2f7",
   "metadata": {},
   "source": [
    "#### Win Rate\n",
    "\n",
    "We observe that there are a few outliers in the Winning Rate boxplot, which are located above the upper whisker. We conclude that these outlier clubs have shown exceptional winning rates compared to the other clubs. Let us identify them ahead.\n",
    "\n",
    "Also let us identify the club that has least \"Winning Rate\"\n",
    "\n",
    "#### Loss Rate\n",
    "\n",
    "We can see very clearly that loss rates for these clubs are high compared to winning rate. \n",
    "\n",
    "#### Drawn Rate\n",
    "\n",
    "We observe an outlier in the drawn rate boxplot, indicating that there is one clubs has a much higher drawn rate compared to others. This may not necessarily be a positive indication, as it suggests that the club may struggle to secure wins in their matches. Going further let us identify which club is this.\n",
    "\n",
    "#### Clean Sheet Rate\n",
    "\n",
    "We see that data for Clean Sheet rate is pretty symmetric."
   ]
  },
  {
   "cell_type": "code",
   "execution_count": 309,
   "id": "c474b3c9",
   "metadata": {},
   "outputs": [],
   "source": [
    "# Win Rate further analysis\n",
    "#Calculate the inter quartile range for the winning\n",
    "Q1=df['Win Rate'].quantile(0.25)\n",
    "Q3=df['Win Rate'].quantile(0.75)\n",
    "IQR=Q3-Q1"
   ]
  },
  {
   "cell_type": "code",
   "execution_count": 310,
   "id": "73d82757",
   "metadata": {},
   "outputs": [],
   "source": [
    "#Calculate the upper boundaries for potential outliers\n",
    "upper_bound=Q3+1.5*IQR"
   ]
  },
  {
   "cell_type": "code",
   "execution_count": 311,
   "id": "d9de033e",
   "metadata": {},
   "outputs": [
    {
     "data": {
      "text/html": [
       "<div>\n",
       "<style scoped>\n",
       "    .dataframe tbody tr th:only-of-type {\n",
       "        vertical-align: middle;\n",
       "    }\n",
       "\n",
       "    .dataframe tbody tr th {\n",
       "        vertical-align: top;\n",
       "    }\n",
       "\n",
       "    .dataframe thead th {\n",
       "        text-align: right;\n",
       "    }\n",
       "</style>\n",
       "<table border=\"1\" class=\"dataframe\">\n",
       "  <thead>\n",
       "    <tr style=\"text-align: right;\">\n",
       "      <th></th>\n",
       "      <th>Club</th>\n",
       "      <th>Matches Played</th>\n",
       "      <th>Win</th>\n",
       "      <th>Loss</th>\n",
       "      <th>Drawn</th>\n",
       "      <th>Goals</th>\n",
       "      <th>Clean Sheets</th>\n",
       "      <th>TeamLaunch</th>\n",
       "      <th>Winners</th>\n",
       "      <th>Runners-up</th>\n",
       "      <th>lastplayed_pl</th>\n",
       "      <th>Win Rate</th>\n",
       "      <th>Loss Rate</th>\n",
       "      <th>Drawn Rate</th>\n",
       "      <th>Clean Sheet Rate</th>\n",
       "      <th>Average Goals Per Match</th>\n",
       "    </tr>\n",
       "  </thead>\n",
       "  <tbody>\n",
       "    <tr>\n",
       "      <th>1</th>\n",
       "      <td>Blackburn Rovers</td>\n",
       "      <td>696</td>\n",
       "      <td>262</td>\n",
       "      <td>250</td>\n",
       "      <td>184</td>\n",
       "      <td>927</td>\n",
       "      <td>210</td>\n",
       "      <td>1875</td>\n",
       "      <td>1.0</td>\n",
       "      <td>1</td>\n",
       "      <td>2012</td>\n",
       "      <td>37.643678</td>\n",
       "      <td>35.919540</td>\n",
       "      <td>26.436782</td>\n",
       "      <td>30.172414</td>\n",
       "      <td>1.0</td>\n",
       "    </tr>\n",
       "    <tr>\n",
       "      <th>12</th>\n",
       "      <td>Leeds United</td>\n",
       "      <td>574</td>\n",
       "      <td>223</td>\n",
       "      <td>202</td>\n",
       "      <td>149</td>\n",
       "      <td>784</td>\n",
       "      <td>179</td>\n",
       "      <td>1919</td>\n",
       "      <td>0.0</td>\n",
       "      <td>0</td>\n",
       "      <td>2023</td>\n",
       "      <td>38.850174</td>\n",
       "      <td>35.191638</td>\n",
       "      <td>25.958188</td>\n",
       "      <td>31.184669</td>\n",
       "      <td>1.0</td>\n",
       "    </tr>\n",
       "  </tbody>\n",
       "</table>\n",
       "</div>"
      ],
      "text/plain": [
       "                Club  Matches Played  Win  Loss  Drawn  Goals  Clean Sheets  \\\n",
       "1   Blackburn Rovers             696  262   250    184    927           210   \n",
       "12      Leeds United             574  223   202    149    784           179   \n",
       "\n",
       "   TeamLaunch  Winners  Runners-up  lastplayed_pl   Win Rate  Loss Rate  \\\n",
       "1        1875      1.0           1           2012  37.643678  35.919540   \n",
       "12       1919      0.0           0           2023  38.850174  35.191638   \n",
       "\n",
       "    Drawn Rate  Clean Sheet Rate  Average Goals Per Match  \n",
       "1    26.436782         30.172414                      1.0  \n",
       "12   25.958188         31.184669                      1.0  "
      ]
     },
     "execution_count": 311,
     "metadata": {},
     "output_type": "execute_result"
    }
   ],
   "source": [
    "#identify the clubs with high win rate\n",
    "df[df['Win Rate']>upper_bound]"
   ]
  },
  {
   "cell_type": "code",
   "execution_count": 312,
   "id": "4e436f81",
   "metadata": {},
   "outputs": [
    {
     "data": {
      "text/html": [
       "<div>\n",
       "<style scoped>\n",
       "    .dataframe tbody tr th:only-of-type {\n",
       "        vertical-align: middle;\n",
       "    }\n",
       "\n",
       "    .dataframe tbody tr th {\n",
       "        vertical-align: top;\n",
       "    }\n",
       "\n",
       "    .dataframe thead th {\n",
       "        text-align: right;\n",
       "    }\n",
       "</style>\n",
       "<table border=\"1\" class=\"dataframe\">\n",
       "  <thead>\n",
       "    <tr style=\"text-align: right;\">\n",
       "      <th></th>\n",
       "      <th>Club</th>\n",
       "      <th>Matches Played</th>\n",
       "      <th>Win</th>\n",
       "      <th>Loss</th>\n",
       "      <th>Drawn</th>\n",
       "      <th>Goals</th>\n",
       "      <th>Clean Sheets</th>\n",
       "      <th>TeamLaunch</th>\n",
       "      <th>Winners</th>\n",
       "      <th>Runners-up</th>\n",
       "      <th>lastplayed_pl</th>\n",
       "      <th>Win Rate</th>\n",
       "      <th>Loss Rate</th>\n",
       "      <th>Drawn Rate</th>\n",
       "      <th>Clean Sheet Rate</th>\n",
       "      <th>Average Goals Per Match</th>\n",
       "    </tr>\n",
       "  </thead>\n",
       "  <tbody>\n",
       "    <tr>\n",
       "      <th>17</th>\n",
       "      <td>Hull City</td>\n",
       "      <td>190</td>\n",
       "      <td>41</td>\n",
       "      <td>101</td>\n",
       "      <td>48</td>\n",
       "      <td>181</td>\n",
       "      <td>58</td>\n",
       "      <td>1904</td>\n",
       "      <td>0.0</td>\n",
       "      <td>0</td>\n",
       "      <td>2017</td>\n",
       "      <td>21.578947</td>\n",
       "      <td>53.157895</td>\n",
       "      <td>25.263158</td>\n",
       "      <td>30.526316</td>\n",
       "      <td>1.0</td>\n",
       "    </tr>\n",
       "  </tbody>\n",
       "</table>\n",
       "</div>"
      ],
      "text/plain": [
       "         Club  Matches Played  Win  Loss  Drawn  Goals  Clean Sheets  \\\n",
       "17  Hull City             190   41   101     48    181            58   \n",
       "\n",
       "   TeamLaunch  Winners  Runners-up  lastplayed_pl   Win Rate  Loss Rate  \\\n",
       "17       1904      0.0           0           2017  21.578947  53.157895   \n",
       "\n",
       "    Drawn Rate  Clean Sheet Rate  Average Goals Per Match  \n",
       "17   25.263158         30.526316                      1.0  "
      ]
     },
     "execution_count": 312,
     "metadata": {},
     "output_type": "execute_result"
    }
   ],
   "source": [
    "#identify the clubs with lower win rate\n",
    "lower_bound=Q1-1.5*IQR\n",
    "df[df['Win Rate']<lower_bound]"
   ]
  },
  {
   "cell_type": "code",
   "execution_count": 313,
   "id": "96f13065",
   "metadata": {},
   "outputs": [],
   "source": [
    "#likewise we will find the outlier for Draw Rate\n",
    "Q1=df['Drawn Rate'].quantile(0.25)\n",
    "Q3=df['Drawn Rate'].quantile(0.75)\n",
    "IQR=Q3-Q1\n",
    "upper=Q3+1.5*IQR"
   ]
  },
  {
   "cell_type": "code",
   "execution_count": 314,
   "id": "4aeb1f0f",
   "metadata": {},
   "outputs": [
    {
     "data": {
      "text/html": [
       "<div>\n",
       "<style scoped>\n",
       "    .dataframe tbody tr th:only-of-type {\n",
       "        vertical-align: middle;\n",
       "    }\n",
       "\n",
       "    .dataframe tbody tr th {\n",
       "        vertical-align: top;\n",
       "    }\n",
       "\n",
       "    .dataframe thead th {\n",
       "        text-align: right;\n",
       "    }\n",
       "</style>\n",
       "<table border=\"1\" class=\"dataframe\">\n",
       "  <thead>\n",
       "    <tr style=\"text-align: right;\">\n",
       "      <th></th>\n",
       "      <th>Club</th>\n",
       "      <th>Matches Played</th>\n",
       "      <th>Win</th>\n",
       "      <th>Loss</th>\n",
       "      <th>Drawn</th>\n",
       "      <th>Goals</th>\n",
       "      <th>Clean Sheets</th>\n",
       "      <th>TeamLaunch</th>\n",
       "      <th>Winners</th>\n",
       "      <th>Runners-up</th>\n",
       "      <th>lastplayed_pl</th>\n",
       "      <th>Win Rate</th>\n",
       "      <th>Loss Rate</th>\n",
       "      <th>Drawn Rate</th>\n",
       "      <th>Clean Sheet Rate</th>\n",
       "      <th>Average Goals Per Match</th>\n",
       "    </tr>\n",
       "  </thead>\n",
       "  <tbody>\n",
       "    <tr>\n",
       "      <th>4</th>\n",
       "      <td>Brighton &amp; Hove Albion</td>\n",
       "      <td>218</td>\n",
       "      <td>61</td>\n",
       "      <td>85</td>\n",
       "      <td>72</td>\n",
       "      <td>243</td>\n",
       "      <td>58</td>\n",
       "      <td>1901</td>\n",
       "      <td>0.0</td>\n",
       "      <td>0</td>\n",
       "      <td>2023</td>\n",
       "      <td>27.981651</td>\n",
       "      <td>38.990826</td>\n",
       "      <td>33.027523</td>\n",
       "      <td>26.605505</td>\n",
       "      <td>1.0</td>\n",
       "    </tr>\n",
       "  </tbody>\n",
       "</table>\n",
       "</div>"
      ],
      "text/plain": [
       "                     Club  Matches Played  Win  Loss  Drawn  Goals  \\\n",
       "4  Brighton & Hove Albion             218   61    85     72    243   \n",
       "\n",
       "   Clean Sheets TeamLaunch  Winners  Runners-up  lastplayed_pl   Win Rate  \\\n",
       "4            58       1901      0.0           0           2023  27.981651   \n",
       "\n",
       "   Loss Rate  Drawn Rate  Clean Sheet Rate  Average Goals Per Match  \n",
       "4  38.990826   33.027523         26.605505                      1.0  "
      ]
     },
     "execution_count": 314,
     "metadata": {},
     "output_type": "execute_result"
    }
   ],
   "source": [
    "df[df['Drawn Rate']>upper]"
   ]
  },
  {
   "cell_type": "code",
   "execution_count": 315,
   "id": "645de363",
   "metadata": {},
   "outputs": [
    {
     "data": {
      "text/plain": [
       "count    29.0\n",
       "mean      1.0\n",
       "std       0.0\n",
       "min       1.0\n",
       "25%       1.0\n",
       "50%       1.0\n",
       "75%       1.0\n",
       "max       1.0\n",
       "Name: Average Goals Per Match, dtype: float64"
      ]
     },
     "execution_count": 315,
     "metadata": {},
     "output_type": "execute_result"
    }
   ],
   "source": [
    "df['Average Goals Per Match'].describe()"
   ]
  },
  {
   "cell_type": "markdown",
   "id": "50ebc375",
   "metadata": {},
   "source": [
    "As you can see we can't infer much from this metric. Therefore we will not use it for further analysis."
   ]
  },
  {
   "cell_type": "code",
   "execution_count": 316,
   "id": "3df23247",
   "metadata": {},
   "outputs": [
    {
     "data": {
      "text/plain": [
       "0.0    27\n",
       "1.0     2\n",
       "Name: Winners, dtype: int64"
      ]
     },
     "execution_count": 316,
     "metadata": {},
     "output_type": "execute_result"
    }
   ],
   "source": [
    "df['Winners'].value_counts()"
   ]
  },
  {
   "cell_type": "code",
   "execution_count": 317,
   "id": "3e1bc0df",
   "metadata": {},
   "outputs": [
    {
     "data": {
      "text/plain": [
       "0    28\n",
       "1     1\n",
       "Name: Runners-up, dtype: int64"
      ]
     },
     "execution_count": 317,
     "metadata": {},
     "output_type": "execute_result"
    }
   ],
   "source": [
    "df['Runners-up'].value_counts()"
   ]
  },
  {
   "cell_type": "code",
   "execution_count": 318,
   "id": "eddb0255",
   "metadata": {},
   "outputs": [
    {
     "data": {
      "text/html": [
       "<div>\n",
       "<style scoped>\n",
       "    .dataframe tbody tr th:only-of-type {\n",
       "        vertical-align: middle;\n",
       "    }\n",
       "\n",
       "    .dataframe tbody tr th {\n",
       "        vertical-align: top;\n",
       "    }\n",
       "\n",
       "    .dataframe thead th {\n",
       "        text-align: right;\n",
       "    }\n",
       "</style>\n",
       "<table border=\"1\" class=\"dataframe\">\n",
       "  <thead>\n",
       "    <tr style=\"text-align: right;\">\n",
       "      <th></th>\n",
       "      <th>Club</th>\n",
       "      <th>Matches Played</th>\n",
       "      <th>Win</th>\n",
       "      <th>Loss</th>\n",
       "      <th>Drawn</th>\n",
       "      <th>Goals</th>\n",
       "      <th>Clean Sheets</th>\n",
       "      <th>TeamLaunch</th>\n",
       "      <th>Winners</th>\n",
       "      <th>Runners-up</th>\n",
       "      <th>lastplayed_pl</th>\n",
       "      <th>Win Rate</th>\n",
       "      <th>Loss Rate</th>\n",
       "      <th>Drawn Rate</th>\n",
       "      <th>Clean Sheet Rate</th>\n",
       "      <th>Average Goals Per Match</th>\n",
       "    </tr>\n",
       "  </thead>\n",
       "  <tbody>\n",
       "    <tr>\n",
       "      <th>1</th>\n",
       "      <td>Blackburn Rovers</td>\n",
       "      <td>696</td>\n",
       "      <td>262</td>\n",
       "      <td>250</td>\n",
       "      <td>184</td>\n",
       "      <td>927</td>\n",
       "      <td>210</td>\n",
       "      <td>1875</td>\n",
       "      <td>1.0</td>\n",
       "      <td>1</td>\n",
       "      <td>2012</td>\n",
       "      <td>37.643678</td>\n",
       "      <td>35.919540</td>\n",
       "      <td>26.436782</td>\n",
       "      <td>30.172414</td>\n",
       "      <td>1.0</td>\n",
       "    </tr>\n",
       "    <tr>\n",
       "      <th>13</th>\n",
       "      <td>Leicester City</td>\n",
       "      <td>642</td>\n",
       "      <td>216</td>\n",
       "      <td>262</td>\n",
       "      <td>164</td>\n",
       "      <td>860</td>\n",
       "      <td>167</td>\n",
       "      <td>1884</td>\n",
       "      <td>1.0</td>\n",
       "      <td>0</td>\n",
       "      <td>2023</td>\n",
       "      <td>33.644860</td>\n",
       "      <td>40.809969</td>\n",
       "      <td>25.545171</td>\n",
       "      <td>26.012461</td>\n",
       "      <td>1.0</td>\n",
       "    </tr>\n",
       "  </tbody>\n",
       "</table>\n",
       "</div>"
      ],
      "text/plain": [
       "                Club  Matches Played  Win  Loss  Drawn  Goals  Clean Sheets  \\\n",
       "1   Blackburn Rovers             696  262   250    184    927           210   \n",
       "13    Leicester City             642  216   262    164    860           167   \n",
       "\n",
       "   TeamLaunch  Winners  Runners-up  lastplayed_pl   Win Rate  Loss Rate  \\\n",
       "1        1875      1.0           1           2012  37.643678  35.919540   \n",
       "13       1884      1.0           0           2023  33.644860  40.809969   \n",
       "\n",
       "    Drawn Rate  Clean Sheet Rate  Average Goals Per Match  \n",
       "1    26.436782         30.172414                      1.0  \n",
       "13   25.545171         26.012461                      1.0  "
      ]
     },
     "execution_count": 318,
     "metadata": {},
     "output_type": "execute_result"
    }
   ],
   "source": [
    "#Now we will find the clubs that has been the winner and runer up in the Premier League\n",
    "df[(df['Winners']==1)  |  (df['Runners-up']==1)]"
   ]
  },
  {
   "cell_type": "markdown",
   "id": "a770df60",
   "metadata": {},
   "source": [
    "We can infer that Blackburn Rovers has won the Premier League and has been a runner up one time. Leicester City has been runner up one time."
   ]
  },
  {
   "cell_type": "code",
   "execution_count": 319,
   "id": "f18a4f02",
   "metadata": {},
   "outputs": [
    {
     "data": {
      "text/plain": [
       "count     29.000000\n",
       "mean     372.482759\n",
       "std      153.533296\n",
       "min      190.000000\n",
       "25%      266.000000\n",
       "50%      305.000000\n",
       "75%      494.000000\n",
       "max      696.000000\n",
       "Name: Matches Played, dtype: float64"
      ]
     },
     "execution_count": 319,
     "metadata": {},
     "output_type": "execute_result"
    }
   ],
   "source": [
    "# Lets us again analyse Matches Played Column for our reduced dataframe (29 clubs).\n",
    "\n",
    "df['Matches Played'].describe()"
   ]
  },
  {
   "cell_type": "code",
   "execution_count": 320,
   "id": "a3a274d1",
   "metadata": {},
   "outputs": [
    {
     "data": {
      "text/plain": [
       "2023    8\n",
       "2022    3\n",
       "2017    3\n",
       "2018    3\n",
       "2012    2\n",
       "2011    1\n",
       "2007    1\n",
       "2001    1\n",
       "2008    1\n",
       "2002    1\n",
       "2015    1\n",
       "2021    1\n",
       "2000    1\n",
       "2013    1\n",
       "2010    1\n",
       "Name: lastplayed_pl, dtype: int64"
      ]
     },
     "execution_count": 320,
     "metadata": {},
     "output_type": "execute_result"
    }
   ],
   "source": [
    "# Let us look at \"lastplayed_pl\" column\n",
    "df['lastplayed_pl'].value_counts()"
   ]
  },
  {
   "cell_type": "code",
   "execution_count": 321,
   "id": "90a7dc8e",
   "metadata": {},
   "outputs": [
    {
     "data": {
      "text/plain": [
       "3                 Bournemouth\n",
       "4      Brighton & Hove Albion\n",
       "8              Crystal Palace\n",
       "10                     Fulham\n",
       "12               Leeds United\n",
       "13             Leicester City\n",
       "16          Nottingham Forest\n",
       "27    Wolverhampton Wanderers\n",
       "Name: Club, dtype: object"
      ]
     },
     "execution_count": 321,
     "metadata": {},
     "output_type": "execute_result"
    }
   ],
   "source": [
    "#Now we will find the clubs that played in 2023\n",
    "df[df['lastplayed_pl']==2023]['Club']"
   ]
  },
  {
   "cell_type": "markdown",
   "id": "fd001464",
   "metadata": {},
   "source": [
    "Giving more priority to teams that have more recent experience playing in the Premier League is ideal. When making the final decision, we will assign higher weight to teams that have played more recently, and lesser weight to those that have not played recently."
   ]
  },
  {
   "cell_type": "markdown",
   "id": "609ca7aa",
   "metadata": {},
   "source": [
    "# Final Recommendation Framework"
   ]
  },
  {
   "cell_type": "markdown",
   "id": "fd58a7cb",
   "metadata": {},
   "source": [
    "Let's create a plan to Score each team on the pre defined metric.\n",
    "\n",
    "* Give a score of 10 if club have a relatively high experience in the Premier League above average (372)\n",
    "* Give a score of 15 if club has winning rate above Q3\n",
    "* Give a score of 15 if club has lossing rate below Q1\n",
    "* Give a score of 10 if club drawn rate below Q1 and losing rate is below Q1\n",
    "* Give a score of 10 if club has clean sheet above Q3 and winning rate is above Q3\n",
    "* Give a score of 15 if club has won premier league\n",
    "* Give a score of 10 if club has been a runners-up in premier league\n",
    "* Give a score of 15 if club has been currently playing in premier league"
   ]
  },
  {
   "cell_type": "code",
   "execution_count": 322,
   "id": "8b6fa92a",
   "metadata": {},
   "outputs": [
    {
     "data": {
      "text/plain": [
       "29"
      ]
     },
     "execution_count": 322,
     "metadata": {},
     "output_type": "execute_result"
    }
   ],
   "source": [
    "len(df)"
   ]
  },
  {
   "cell_type": "code",
   "execution_count": 323,
   "id": "78559ca0",
   "metadata": {},
   "outputs": [],
   "source": [
    "#we will create a column scores to the dataframe \n",
    "df['scores']=np.zeros(len(df))"
   ]
  },
  {
   "cell_type": "code",
   "execution_count": 324,
   "id": "d4f7224a",
   "metadata": {},
   "outputs": [],
   "source": [
    "#Calculate the upper bound of win rate\n",
    "upper_bound_win_rate=df['Win Rate'].quantile(0.75)\n",
    "\n",
    "#Calculate the lower bound of loss rate\n",
    "lower_bound_loss_rate=df['Loss Rate'].quantile(0.25)\n",
    "\n",
    "#Calculate the lower bound of drawn rate\n",
    "lower_bound_drawn_rate=df['Drawn Rate'].quantile(0.25)\n",
    "\n",
    "#Calculate the upper bound of clean sheet rate\n",
    "upper_bound_clean_sheet=df['Clean Sheet Rate'].quantile(0.75)"
   ]
  },
  {
   "cell_type": "code",
   "execution_count": 325,
   "id": "a1f95444",
   "metadata": {},
   "outputs": [],
   "source": [
    "df.loc[df['Matches Played'] >=372, 'scores'] +=10\n",
    "df.loc[df['Win Rate']>=upper_bound_win_rate,'scores'] +=15\n",
    "df.loc[df['Loss Rate']<=lower_bound_loss_rate,'scores'] +=15\n",
    "df.loc[(df['Drawn Rate']<=lower_bound_drawn_rate) & (df['Loss Rate']<=lower_bound_drawn_rate),'scores'] +=10\n",
    "df.loc[(df['Clean Sheet Rate']>=upper_bound_clean_sheet) & (df['Win Rate']>=upper_bound_win_rate),'scores'] +=10\n",
    "df.loc[df['Winners']==1,'scores'] +=15\n",
    "df.loc[df['Runners-up']==1,'scores'] +=10\n",
    "df.loc[df['lastplayed_pl']==2023,'scores'] +=15"
   ]
  },
  {
   "cell_type": "code",
   "execution_count": 326,
   "id": "a6a381a7",
   "metadata": {},
   "outputs": [],
   "source": [
    "#Sorting the dataframe in descending order\n",
    "df_sort=df.sort_values(by='scores',ascending=False)"
   ]
  },
  {
   "cell_type": "code",
   "execution_count": 327,
   "id": "93985bf4",
   "metadata": {},
   "outputs": [
    {
     "data": {
      "text/plain": [
       "(0.0, 100.0)"
      ]
     },
     "execution_count": 327,
     "metadata": {},
     "output_type": "execute_result"
    },
    {
     "data": {
      "image/png": "[encoded data removed]",
      "text/plain": [
       "<Figure size 1200x600 with 1 Axes>"
      ]
     },
     "metadata": {},
     "output_type": "display_data"
    }
   ],
   "source": [
    "#Plotting the graph\n",
    "plt.figure(figsize=(12,6))\n",
    "sns.barplot(x=df_sort['Club'],y=df_sort['scores'])\n",
    "plt.ylabel('Scores')\n",
    "plt.title('Football Club v/s Performance score', fontsize=18,font='Arial')\n",
    "\n",
    "# rotate the team names on the x-axis for readability\n",
    "plt.xticks(rotation=90,fontsize=10)\n",
    "plt.yticks(fontsize=10)\n",
    "\n",
    "# set the y-axis limit to start from 0 and end at 100\n",
    "plt.ylim(0,100)"
   ]
  },
  {
   "cell_type": "markdown",
   "id": "1f904dd9",
   "metadata": {},
   "source": [
    "Here we can see that Blackburn Rovers has a good score followed by Leicester City\n",
    "\n",
    "Now we check if the leading clubs have played in the recent years."
   ]
  },
  {
   "cell_type": "code",
   "execution_count": 328,
   "id": "0bfa8906",
   "metadata": {},
   "outputs": [],
   "source": [
    "df_sort=df[(df['lastplayed_pl']==2023) | (df['lastplayed_pl']==2022)].sort_values(by='scores',ascending=False)"
   ]
  },
  {
   "cell_type": "code",
   "execution_count": 329,
   "id": "7aca2ee6",
   "metadata": {},
   "outputs": [
    {
     "data": {
      "text/html": [
       "<div>\n",
       "<style scoped>\n",
       "    .dataframe tbody tr th:only-of-type {\n",
       "        vertical-align: middle;\n",
       "    }\n",
       "\n",
       "    .dataframe tbody tr th {\n",
       "        vertical-align: top;\n",
       "    }\n",
       "\n",
       "    .dataframe thead th {\n",
       "        text-align: right;\n",
       "    }\n",
       "</style>\n",
       "<table border=\"1\" class=\"dataframe\">\n",
       "  <thead>\n",
       "    <tr style=\"text-align: right;\">\n",
       "      <th></th>\n",
       "      <th>Club</th>\n",
       "      <th>Matches Played</th>\n",
       "      <th>Win</th>\n",
       "      <th>Loss</th>\n",
       "      <th>Drawn</th>\n",
       "      <th>Goals</th>\n",
       "      <th>Clean Sheets</th>\n",
       "      <th>TeamLaunch</th>\n",
       "      <th>Winners</th>\n",
       "      <th>Runners-up</th>\n",
       "      <th>lastplayed_pl</th>\n",
       "      <th>Win Rate</th>\n",
       "      <th>Loss Rate</th>\n",
       "      <th>Drawn Rate</th>\n",
       "      <th>Clean Sheet Rate</th>\n",
       "      <th>Average Goals Per Match</th>\n",
       "      <th>scores</th>\n",
       "    </tr>\n",
       "  </thead>\n",
       "  <tbody>\n",
       "    <tr>\n",
       "      <th>13</th>\n",
       "      <td>Leicester City</td>\n",
       "      <td>642</td>\n",
       "      <td>216</td>\n",
       "      <td>262</td>\n",
       "      <td>164</td>\n",
       "      <td>860</td>\n",
       "      <td>167</td>\n",
       "      <td>1884</td>\n",
       "      <td>1.0</td>\n",
       "      <td>0</td>\n",
       "      <td>2023</td>\n",
       "      <td>33.644860</td>\n",
       "      <td>40.809969</td>\n",
       "      <td>25.545171</td>\n",
       "      <td>26.012461</td>\n",
       "      <td>1.0</td>\n",
       "      <td>70.0</td>\n",
       "    </tr>\n",
       "    <tr>\n",
       "      <th>12</th>\n",
       "      <td>Leeds United</td>\n",
       "      <td>574</td>\n",
       "      <td>223</td>\n",
       "      <td>202</td>\n",
       "      <td>149</td>\n",
       "      <td>784</td>\n",
       "      <td>179</td>\n",
       "      <td>1919</td>\n",
       "      <td>0.0</td>\n",
       "      <td>0</td>\n",
       "      <td>2023</td>\n",
       "      <td>38.850174</td>\n",
       "      <td>35.191638</td>\n",
       "      <td>25.958188</td>\n",
       "      <td>31.184669</td>\n",
       "      <td>1.0</td>\n",
       "      <td>65.0</td>\n",
       "    </tr>\n",
       "    <tr>\n",
       "      <th>4</th>\n",
       "      <td>Brighton &amp; Hove Albion</td>\n",
       "      <td>218</td>\n",
       "      <td>61</td>\n",
       "      <td>85</td>\n",
       "      <td>72</td>\n",
       "      <td>243</td>\n",
       "      <td>58</td>\n",
       "      <td>1901</td>\n",
       "      <td>0.0</td>\n",
       "      <td>0</td>\n",
       "      <td>2023</td>\n",
       "      <td>27.981651</td>\n",
       "      <td>38.990826</td>\n",
       "      <td>33.027523</td>\n",
       "      <td>26.605505</td>\n",
       "      <td>1.0</td>\n",
       "      <td>30.0</td>\n",
       "    </tr>\n",
       "    <tr>\n",
       "      <th>16</th>\n",
       "      <td>Nottingham Forest</td>\n",
       "      <td>227</td>\n",
       "      <td>66</td>\n",
       "      <td>94</td>\n",
       "      <td>67</td>\n",
       "      <td>253</td>\n",
       "      <td>52</td>\n",
       "      <td>1865</td>\n",
       "      <td>0.0</td>\n",
       "      <td>0</td>\n",
       "      <td>2023</td>\n",
       "      <td>29.074890</td>\n",
       "      <td>41.409692</td>\n",
       "      <td>29.515419</td>\n",
       "      <td>22.907489</td>\n",
       "      <td>1.0</td>\n",
       "      <td>30.0</td>\n",
       "    </tr>\n",
       "    <tr>\n",
       "      <th>8</th>\n",
       "      <td>Crystal Palace</td>\n",
       "      <td>532</td>\n",
       "      <td>153</td>\n",
       "      <td>241</td>\n",
       "      <td>138</td>\n",
       "      <td>576</td>\n",
       "      <td>133</td>\n",
       "      <td>1861</td>\n",
       "      <td>0.0</td>\n",
       "      <td>0</td>\n",
       "      <td>2023</td>\n",
       "      <td>28.759398</td>\n",
       "      <td>45.300752</td>\n",
       "      <td>25.939850</td>\n",
       "      <td>25.000000</td>\n",
       "      <td>1.0</td>\n",
       "      <td>25.0</td>\n",
       "    </tr>\n",
       "  </tbody>\n",
       "</table>\n",
       "</div>"
      ],
      "text/plain": [
       "                      Club  Matches Played  Win  Loss  Drawn  Goals  \\\n",
       "13          Leicester City             642  216   262    164    860   \n",
       "12            Leeds United             574  223   202    149    784   \n",
       "4   Brighton & Hove Albion             218   61    85     72    243   \n",
       "16       Nottingham Forest             227   66    94     67    253   \n",
       "8           Crystal Palace             532  153   241    138    576   \n",
       "\n",
       "    Clean Sheets TeamLaunch  Winners  Runners-up  lastplayed_pl   Win Rate  \\\n",
       "13           167       1884      1.0           0           2023  33.644860   \n",
       "12           179       1919      0.0           0           2023  38.850174   \n",
       "4             58       1901      0.0           0           2023  27.981651   \n",
       "16            52       1865      0.0           0           2023  29.074890   \n",
       "8            133       1861      0.0           0           2023  28.759398   \n",
       "\n",
       "    Loss Rate  Drawn Rate  Clean Sheet Rate  Average Goals Per Match  scores  \n",
       "13  40.809969   25.545171         26.012461                      1.0    70.0  \n",
       "12  35.191638   25.958188         31.184669                      1.0    65.0  \n",
       "4   38.990826   33.027523         26.605505                      1.0    30.0  \n",
       "16  41.409692   29.515419         22.907489                      1.0    30.0  \n",
       "8   45.300752   25.939850         25.000000                      1.0    25.0  "
      ]
     },
     "execution_count": 329,
     "metadata": {},
     "output_type": "execute_result"
    }
   ],
   "source": [
    "df_sort.head()"
   ]
  },
  {
   "cell_type": "code",
   "execution_count": 330,
   "id": "c141f19a",
   "metadata": {},
   "outputs": [
    {
     "data": {
      "text/plain": [
       "(0.0, 100.0)"
      ]
     },
     "execution_count": 330,
     "metadata": {},
     "output_type": "execute_result"
    },
    {
     "data": {
      "image/png": "[encoded data removed]",
      "text/plain": [
       "<Figure size 1200x600 with 1 Axes>"
      ]
     },
     "metadata": {},
     "output_type": "display_data"
    }
   ],
   "source": [
    "#Plotting the graph\n",
    "plt.figure(figsize=(12,6))\n",
    "sns.barplot(x=df_sort['Club'],y=df_sort['scores'])\n",
    "plt.ylabel('Scores')\n",
    "plt.title('Football Club v/s Performance score', fontsize=18,font='Arial')\n",
    "\n",
    "# rotate the team names on the x-axis for readability\n",
    "plt.xticks(rotation=90,fontsize=10)\n",
    "plt.yticks(fontsize=10)\n",
    "\n",
    "# set the y-axis limit to start from 0 and end at 100\n",
    "plt.ylim(0,100)"
   ]
  },
  {
   "cell_type": "markdown",
   "id": "2097529c",
   "metadata": {},
   "source": [
    "We can find that Blackburn Rovers has be removed from the list .\n",
    "\n",
    "We can check when Blackburn Rovers had played last"
   ]
  },
  {
   "cell_type": "code",
   "execution_count": 332,
   "id": "550b7442",
   "metadata": {},
   "outputs": [
    {
     "data": {
      "text/plain": [
       "1    2012\n",
       "Name: lastplayed_pl, dtype: int64"
      ]
     },
     "execution_count": 332,
     "metadata": {},
     "output_type": "execute_result"
    }
   ],
   "source": [
    "df[df['Club']=='Blackburn Rovers']['lastplayed_pl']"
   ]
  },
  {
   "cell_type": "markdown",
   "id": "c3333646",
   "metadata": {},
   "source": [
    "Blackburn Rovers last played in the tournament in 2012, which was quite some time ago. Given this information, we recommend that stakeholders consider investing in Leicester City instead. We believe that Leicester City's recent form and performance make them a better choice for investment.\n",
    "\n",
    "To support our claim, we will conduct further secondary research to provide additional evidence of Leicester City's current form and potential for success"
   ]
  },
  {
   "cell_type": "markdown",
   "id": "190ff9fc",
   "metadata": {},
   "source": [
    "According to our research, Blackburn Rovers were relegated to the Championship league in 2012 i.e., league below Premier League and later to League One in 2017 i.e., league below Championship league. However, they were promoted back to the Championship in 2018 and have since finished in the middle of the table in recent years. Given their inconsistent performance and lack of presence in the Premier League since 2012, it would be inappropriate to recommend this club for investment.\n",
    "\n",
    "On the other hand, Leicester City, the 2016 Premier League champions, have consistently finished in the top 10 in recent years. They placed 5th in both the 2019-2020 and 2020-2021 seasons and finished 8th in 2021-2022. With sufficient financial backing, Leicester City has the potential to achieve even greater success in the near future. Therefore, it would be reasonable to recommend Leicester City to our clients.\n",
    "\n",
    "*Source 1: https://www.transfermarkt.co.in/blackburn-rovers/platzierungen/verein/164*\n",
    "\n",
    "*Source 2: https://www.transfermarkt.co.in/leicester-city/platzierungen/verein/1003*"
   ]
  },
  {
   "cell_type": "markdown",
   "id": "2d90199d",
   "metadata": {},
   "source": [
    "### We recommend investing in Leicester City based on our analysis"
   ]
  }
 ],
 "metadata": {
  "kernelspec": {
   "display_name": "Python 3 (ipykernel)",
   "language": "python",
   "name": "python3"
  },
  "language_info": {
   "codemirror_mode": {
    "name": "ipython",
    "version": 3
   },
   "file_extension": ".py",
   "mimetype": "text/x-python",
   "name": "python",
   "nbconvert_exporter": "python",
   "pygments_lexer": "ipython3",
   "version": "3.9.18"
  }
 },
 "nbformat": 4,
 "nbformat_minor": 5
}
